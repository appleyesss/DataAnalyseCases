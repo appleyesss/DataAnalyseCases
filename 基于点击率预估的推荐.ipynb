{
 "cells": [
  {
   "cell_type": "markdown",
   "metadata": {},
   "source": [
    "# 1 建模场景分析"
   ]
  },
  {
   "cell_type": "markdown",
   "metadata": {},
   "source": [
    "## 1.1 建模目标"
   ]
  },
  {
   "cell_type": "markdown",
   "metadata": {},
   "source": [
    "客户生命周期管理一直是企业运营的重点关注问题，一般来说，客户粘性随着时间的迁移会经历潜在期、培育期、活跃期、衰退期、睡眠期以及流失期6个阶段。通过对企业运营管理的经验总结，管理学家发现多数行业维护一个客户的成本比获取一个新客户的成本低得多，因此不少企业都会开设客户服务部门对客户流失现象进行分析，以求挽回进入睡眠期和流失期的客户，为企业创造长远价值。"
   ]
  },
  {
   "cell_type": "markdown",
   "metadata": {},
   "source": [
    "![](./pics/客户生命周期.png)"
   ]
  },
  {
   "cell_type": "markdown",
   "metadata": {},
   "source": [
    "企业A主要从事运营商业务，为客户提供电话服务、网络服务、付费电视等服务。随着机器学习在推荐系统领域获得的巨大成功，企业A也想构建处这样一个“客户流失推荐”的分析模型，去识别潜在流失客户，并对流失概率的优先级进行排序，帮助客户服务部门合理分配资源进行客户关系维系。\n"
   ]
  },
  {
   "cell_type": "markdown",
   "metadata": {},
   "source": [
    "## 1.2 建模数据"
   ]
  },
  {
   "cell_type": "markdown",
   "metadata": {},
   "source": [
    "此数据集包含21个字段，7044行，总计数据量为154968。数据存在缺失现象。  \n",
    "数据来源：https://www.kaggle.com/blastchar/telco-customer-churn"
   ]
  },
  {
   "cell_type": "markdown",
   "metadata": {},
   "source": [
    "特征|说明\n",
    "-|-\n",
    "customerID|客户ID\n",
    "gender|性别：客户是男性还是女性\n",
    "SeniorCitizen|老年人：客户是否是老年人（是，否）\n",
    "Partner|配偶：客户是否有配偶（是，否）\n",
    "Dependents          |家属：客户是否有家属（是、否）\n",
    "tenure              |期限：客户在公司停留的月数\n",
    "PhoneService        |电话服务：客户是否有电话服务（是、否）\n",
    "MultipleLines       |多线路：客户是否有多条线路（是、否、无电话服务）\n",
    "InternetService     |互联网服务：客户的互联网服务提供商（DSL、光纤、NO）\n",
    "OnlineSecurity      |在线安全：客户是否有在线安全（是、否、无互联网服务）\n",
    "OnlineBackup        |在线备份：客户是否有在线备份（是、否、无互联网服务）\n",
    "DeviceProtection    |设备保护：客户是否有设备保护（是、否、无互联网服务）\n",
    "TechSupport         |技术支持：客户是否有技术支持（是、否、无互联网服务）\n",
    "StreamingTV         |流媒体：客户是否有流媒体电视（是、否、无互联网服务）\n",
    "StreamingMovies     |流式播放：客户是否有流式播放的电影（是、否、无互联网服务）\n",
    "Contract            |合同：客户的合同期限（月到月、一年、两年）\n",
    "PaperlessBilling    |无纸记账：客户是否有无纸账单（是，否）\n",
    "PaymentMethod       |付款方式：客户的付款方式（电子支票、邮寄支票、银行转账（自动）、信用卡（自动））\n",
    "MonthlyCharges      |月费用：每月向客户收取每月的费用\n",
    "TotalCharges        |总费用：向客户收取的总金额\n",
    "Churn               |客户是否流失（是或否）"
   ]
  },
  {
   "cell_type": "markdown",
   "metadata": {},
   "source": [
    "## 1.3 建模环境"
   ]
  },
  {
   "cell_type": "raw",
   "metadata": {},
   "source": [
    "Windows10 Python 3.7.3"
   ]
  },
  {
   "cell_type": "raw",
   "metadata": {},
   "source": [
    "numpy==1.16.4\n",
    "pandas==0.24.2\n",
    "matplotlib==3.1.0\n",
    "scikit-learn==0.21.2\n",
    "scipy==1.2.1\n",
    "missingno==0.4.2"
   ]
  },
  {
   "cell_type": "code",
   "execution_count": 131,
   "metadata": {},
   "outputs": [],
   "source": [
    "graphviz_path = r'C:\\Program Files\\Graphviz\\bin'"
   ]
  },
  {
   "cell_type": "markdown",
   "metadata": {},
   "source": [
    "# 2 模型选择"
   ]
  },
  {
   "cell_type": "markdown",
   "metadata": {},
   "source": [
    "## 2.1 传统的推荐算法模型——协同过滤\n",
    "推荐系统是一种个性化系统，本质上是一种信息过滤系统，通过一定的算法在海量数据中过滤掉用户不太可能产生行为的物品，从而为用户推荐所需要的物品。\n",
    "\n",
    "**推荐模型的关系演化图：**\n",
    "\n",
    "\n",
    "![](./pics/传统推荐模型的关系演化图.png)\n",
    "\n",
    "\n",
    "协同过滤算法是推荐系统的首选模型，从物品相似度和用户相似角度出发，衍生出了UserCF和ItemCF两种算法。从协同过滤衍生出矩阵分解模型（Matrix Factorization，MF）并发展出矩阵分解的各分支模型。\n",
    "\n",
    "（1）基于用户的协同过滤算法（UserCF）\n",
    "UserCF的工作原理是：当一个用户A需要个性化推荐时，先找到和他有相似兴趣度的其他用户，然后把那些用户喜欢的而用户A没有听说过的物品推荐给A。\n",
    "\n",
    "该算法的实现主要包括两个步骤：\n",
    "\n",
    "a.和目标用户兴趣度相似的用户集合\n",
    "\n",
    "b.这个集合中的用户喜欢且目标用户没有听说过的物品推荐给目标用户\n",
    "\n",
    "UserCF算法的缺点：随着用户增长，计算兴趣相似度矩阵难度越来越高；该算法很难对推荐结果作出解释。\n",
    "\n",
    "（2）基于物品的协同过滤算法（ItemCF）\n",
    "\n",
    "ItemCF的工作原理是：给用户推荐那些和他们之前喜欢的物品相似的其他物品。\n",
    "\n",
    "该算法的实现主要包括两个步骤：\n",
    "\n",
    "a.物品之间的相似度\n",
    "\n",
    "b.物品的相似度和用户的历史行为给用户生成推荐列表\n",
    "\n",
    "UserCF和ItemCF两种算法应用的侧重点不同，UserCF推荐更社会化（新闻），反映用户所在的小型兴趣群体中物品的热门程度；ItemCF推荐更个性化（电商），反映了用户自己的兴趣传承。\n",
    "\n",
    "\n",
    "\n"
   ]
  },
  {
   "cell_type": "markdown",
   "metadata": {},
   "source": [
    "## 2.2 GBDT+LR\n",
    "### 2.2.1 逻辑回归（LR）\n",
    "逻辑回归是广义线性回归（GLM）的一种特殊形式，逻辑回归建立在0-1分布上，假设概率用函数值域是[0,1]来代替。\n",
    "\n",
    "**其分布函数和密度函数分别为：**\n",
    "\n",
    "![](./pics/LR.png)\n",
    "\n",
    "其中,μ=0 表示位置参数，γ>0 为形状参数。\n",
    "\n",
    "LR模型的并行能力很强，能够处理较大的数据集，同时只能处理一维的特征，学习能力有限，需要大量的特征工程。"
   ]
  },
  {
   "cell_type": "markdown",
   "metadata": {},
   "source": [
    "### 2.2.2 梯度提升树（GBDT）\n",
    "GBDT（Gradient Boost Decision Tree），即梯度提升决策树，由梯度提升（Gradient Boost）和决策树（Decision Tree）两部分组成。 是一种迭代的决策树算法，该算法由多棵决策树组成，所有树的结论累加起来做最终答案，决策树的深度决定了特征交叉的阶数。\n",
    "\n",
    "由于其树状特性，数据敏感度较高，部分数据的调整会引发整体类别的变化，可处理数据量有限，需要一个相对比较钝化的模型。GBDT缺乏泛化能力，在原有的数据集上添加新的数据集需要重新训练。"
   ]
  },
  {
   "cell_type": "code",
   "execution_count": 132,
   "metadata": {},
   "outputs": [],
   "source": [
    "#梯度提升决策树算法步骤解释：\n",
    "\n",
    "#1、初始化，估计使损失函数极小化的常数值，它是只有一个根节点的树，即ganma是一个常数值。\n",
    "\n",
    "#2、（a）计算损失函数的负梯度在当前模型的值，将它作为残差的估计（b）估计回归树叶节点区域，以拟合残差的近似值（c）利用线性搜索估计叶节点区域的值，使损失函数极小化（d）更新回归树\n",
    "#3、得到输出的最终模型 f(x)"
   ]
  },
  {
   "cell_type": "markdown",
   "metadata": {},
   "source": [
    "### 2.2.3 GBDT+LR\n",
    "GBDT+LR的核心是将GBDT每棵树的决策路径直接作为LR的输入特征使用。GBDT的输出结果作为新数据集训练LR模型，最终得到预测的概率值。\n",
    "GBDT+LR运行过程\n",
    "\n",
    "1、GBDT首先对原始训练数据做训练，得到一个二分类器，利用网格搜索寻找最佳参数组合。\n",
    "\n",
    "2、当GBDT训练好做预测的时候，把模型中的每棵树计算得到的预测概率值所属的叶子结点位置记为1，构造出新的训练数据。\n",
    "\n",
    "3、新的训练数据构造完成后，与原始的训练数据中的label(输出)数据一并输入到LR分类器中进行最终分类器的训练，LR一层可使用正则化来减少过拟合的风险。\n",
    "\n",
    "**GBDT+LR组合模型运行示意图：**\n",
    "\n",
    "\n",
    "![](./pics/GBDT+LR.jpg)\n",
    "\n",
    "GBDT+LR组合模型推进了特征工程模型化的趋势，GBDT+LR组合模型的提出，意味着特征工程可以完全交由一个独立的模型来完成，模型的输入可以是原始的特征向量，不必在特征工程上投入过多的人工筛选和模型设计的精力，实现真正的端到端的训练。\n",
    "\n",
    "\n",
    "\n"
   ]
  },
  {
   "cell_type": "markdown",
   "metadata": {},
   "source": [
    "# 3 建模流程"
   ]
  },
  {
   "cell_type": "markdown",
   "metadata": {},
   "source": [
    "## 3.1 数据清洗"
   ]
  },
  {
   "cell_type": "markdown",
   "metadata": {},
   "source": [
    "### 3.1.1 数据导入"
   ]
  },
  {
   "cell_type": "markdown",
   "metadata": {},
   "source": [
    "数据集一共21个维度,7043个样本，其中,customerID是客户id,最后一列Churn为标签：Yes表示流失，No表示非流失，其他19列是用户相关特征，其中，有4个是数值型特征，15个是离散型特征"
   ]
  },
  {
   "cell_type": "code",
   "execution_count": 2,
   "metadata": {},
   "outputs": [],
   "source": [
    "import numpy as np\n",
    "import pandas as pd\n",
    "import matplotlib.pyplot as plt\n",
    "import missingno as msno\n",
    "import seaborn as sns"
   ]
  },
  {
   "cell_type": "code",
   "execution_count": 3,
   "metadata": {},
   "outputs": [
    {
     "name": "stdout",
     "output_type": "stream",
     "text": [
      "<class 'pandas.core.frame.DataFrame'>\n",
      "RangeIndex: 7043 entries, 0 to 7042\n",
      "Data columns (total 21 columns):\n",
      "customerID          7043 non-null object\n",
      "gender              7043 non-null object\n",
      "SeniorCitizen       7043 non-null int64\n",
      "Partner             7043 non-null object\n",
      "Dependents          7043 non-null object\n",
      "tenure              7043 non-null int64\n",
      "PhoneService        7043 non-null object\n",
      "MultipleLines       7043 non-null object\n",
      "InternetService     7043 non-null object\n",
      "OnlineSecurity      7043 non-null object\n",
      "OnlineBackup        7043 non-null object\n",
      "DeviceProtection    7043 non-null object\n",
      "TechSupport         7043 non-null object\n",
      "StreamingTV         7043 non-null object\n",
      "StreamingMovies     7043 non-null object\n",
      "Contract            7043 non-null object\n",
      "PaperlessBilling    7043 non-null object\n",
      "PaymentMethod       7043 non-null object\n",
      "MonthlyCharges      7043 non-null float64\n",
      "TotalCharges        7043 non-null object\n",
      "Churn               7043 non-null object\n",
      "dtypes: float64(1), int64(2), object(18)\n",
      "memory usage: 1.1+ MB\n"
     ]
    },
    {
     "data": {
      "text/plain": [
       "(7043, 21)"
      ]
     },
     "execution_count": 3,
     "metadata": {},
     "output_type": "execute_result"
    }
   ],
   "source": [
    "data = pd.read_csv(\"./data/TCC.csv\")\n",
    "data.info()\n",
    "data.shape"
   ]
  },
  {
   "cell_type": "code",
   "execution_count": 4,
   "metadata": {},
   "outputs": [
    {
     "data": {
      "text/plain": [
       "<matplotlib.axes._subplots.AxesSubplot at 0x28d006f1cf8>"
      ]
     },
     "execution_count": 4,
     "metadata": {},
     "output_type": "execute_result"
    },
    {
     "data": {
      "image/png": "[encoded data removed]",
      "text/plain": [
       "<Figure size 1800x720 with 2 Axes>"
      ]
     },
     "metadata": {
      "needs_background": "light"
     },
     "output_type": "display_data"
    }
   ],
   "source": [
    "msno.matrix(data)"
   ]
  },
  {
   "cell_type": "code",
   "execution_count": 5,
   "metadata": {},
   "outputs": [
    {
     "data": {
      "text/html": [
       "<div>\n",
       "<style scoped>\n",
       "    .dataframe tbody tr th:only-of-type {\n",
       "        vertical-align: middle;\n",
       "    }\n",
       "\n",
       "    .dataframe tbody tr th {\n",
       "        vertical-align: top;\n",
       "    }\n",
       "\n",
       "    .dataframe thead th {\n",
       "        text-align: right;\n",
       "    }\n",
       "</style>\n",
       "<table border=\"1\" class=\"dataframe\">\n",
       "  <thead>\n",
       "    <tr style=\"text-align: right;\">\n",
       "      <th></th>\n",
       "      <th>customerID</th>\n",
       "      <th>gender</th>\n",
       "      <th>SeniorCitizen</th>\n",
       "      <th>Partner</th>\n",
       "      <th>Dependents</th>\n",
       "      <th>tenure</th>\n",
       "      <th>PhoneService</th>\n",
       "      <th>MultipleLines</th>\n",
       "      <th>InternetService</th>\n",
       "      <th>OnlineSecurity</th>\n",
       "      <th>...</th>\n",
       "      <th>DeviceProtection</th>\n",
       "      <th>TechSupport</th>\n",
       "      <th>StreamingTV</th>\n",
       "      <th>StreamingMovies</th>\n",
       "      <th>Contract</th>\n",
       "      <th>PaperlessBilling</th>\n",
       "      <th>PaymentMethod</th>\n",
       "      <th>MonthlyCharges</th>\n",
       "      <th>TotalCharges</th>\n",
       "      <th>Churn</th>\n",
       "    </tr>\n",
       "  </thead>\n",
       "  <tbody>\n",
       "    <tr>\n",
       "      <th>0</th>\n",
       "      <td>7590-VHVEG</td>\n",
       "      <td>Female</td>\n",
       "      <td>0</td>\n",
       "      <td>Yes</td>\n",
       "      <td>No</td>\n",
       "      <td>1</td>\n",
       "      <td>No</td>\n",
       "      <td>No phone service</td>\n",
       "      <td>DSL</td>\n",
       "      <td>No</td>\n",
       "      <td>...</td>\n",
       "      <td>No</td>\n",
       "      <td>No</td>\n",
       "      <td>No</td>\n",
       "      <td>No</td>\n",
       "      <td>Month-to-month</td>\n",
       "      <td>Yes</td>\n",
       "      <td>Electronic check</td>\n",
       "      <td>29.85</td>\n",
       "      <td>29.85</td>\n",
       "      <td>No</td>\n",
       "    </tr>\n",
       "  </tbody>\n",
       "</table>\n",
       "<p>1 rows × 21 columns</p>\n",
       "</div>"
      ],
      "text/plain": [
       "   customerID  gender  SeniorCitizen Partner Dependents  tenure PhoneService  \\\n",
       "0  7590-VHVEG  Female              0     Yes         No       1           No   \n",
       "\n",
       "      MultipleLines InternetService OnlineSecurity  ... DeviceProtection  \\\n",
       "0  No phone service             DSL             No  ...               No   \n",
       "\n",
       "  TechSupport StreamingTV StreamingMovies        Contract PaperlessBilling  \\\n",
       "0          No          No              No  Month-to-month              Yes   \n",
       "\n",
       "      PaymentMethod MonthlyCharges  TotalCharges Churn  \n",
       "0  Electronic check          29.85         29.85    No  \n",
       "\n",
       "[1 rows x 21 columns]"
      ]
     },
     "execution_count": 5,
     "metadata": {},
     "output_type": "execute_result"
    }
   ],
   "source": [
    "data.head(1)"
   ]
  },
  {
   "cell_type": "markdown",
   "metadata": {},
   "source": [
    "### 3.1.2 数据统计分析"
   ]
  },
  {
   "cell_type": "markdown",
   "metadata": {},
   "source": [
    "我们拿掉用户ID和是否流失的标签列之后，对用户的其他特征进行分析，由于很多特征是字符串，所以可以设置describe方法中的include为['object']，以此来显示非数值型的统计结果"
   ]
  },
  {
   "cell_type": "code",
   "execution_count": 6,
   "metadata": {},
   "outputs": [
    {
     "data": {
      "text/html": [
       "<div>\n",
       "<style scoped>\n",
       "    .dataframe tbody tr th:only-of-type {\n",
       "        vertical-align: middle;\n",
       "    }\n",
       "\n",
       "    .dataframe tbody tr th {\n",
       "        vertical-align: top;\n",
       "    }\n",
       "\n",
       "    .dataframe thead th {\n",
       "        text-align: right;\n",
       "    }\n",
       "</style>\n",
       "<table border=\"1\" class=\"dataframe\">\n",
       "  <thead>\n",
       "    <tr style=\"text-align: right;\">\n",
       "      <th></th>\n",
       "      <th>SeniorCitizen</th>\n",
       "      <th>tenure</th>\n",
       "      <th>MonthlyCharges</th>\n",
       "    </tr>\n",
       "  </thead>\n",
       "  <tbody>\n",
       "    <tr>\n",
       "      <th>count</th>\n",
       "      <td>7043.000000</td>\n",
       "      <td>7043.000000</td>\n",
       "      <td>7043.000000</td>\n",
       "    </tr>\n",
       "    <tr>\n",
       "      <th>mean</th>\n",
       "      <td>0.162147</td>\n",
       "      <td>32.371149</td>\n",
       "      <td>64.761692</td>\n",
       "    </tr>\n",
       "    <tr>\n",
       "      <th>std</th>\n",
       "      <td>0.368612</td>\n",
       "      <td>24.559481</td>\n",
       "      <td>30.090047</td>\n",
       "    </tr>\n",
       "    <tr>\n",
       "      <th>min</th>\n",
       "      <td>0.000000</td>\n",
       "      <td>0.000000</td>\n",
       "      <td>18.250000</td>\n",
       "    </tr>\n",
       "    <tr>\n",
       "      <th>25%</th>\n",
       "      <td>0.000000</td>\n",
       "      <td>9.000000</td>\n",
       "      <td>35.500000</td>\n",
       "    </tr>\n",
       "    <tr>\n",
       "      <th>50%</th>\n",
       "      <td>0.000000</td>\n",
       "      <td>29.000000</td>\n",
       "      <td>70.350000</td>\n",
       "    </tr>\n",
       "    <tr>\n",
       "      <th>75%</th>\n",
       "      <td>0.000000</td>\n",
       "      <td>55.000000</td>\n",
       "      <td>89.850000</td>\n",
       "    </tr>\n",
       "    <tr>\n",
       "      <th>max</th>\n",
       "      <td>1.000000</td>\n",
       "      <td>72.000000</td>\n",
       "      <td>118.750000</td>\n",
       "    </tr>\n",
       "  </tbody>\n",
       "</table>\n",
       "</div>"
      ],
      "text/plain": [
       "       SeniorCitizen       tenure  MonthlyCharges\n",
       "count    7043.000000  7043.000000     7043.000000\n",
       "mean        0.162147    32.371149       64.761692\n",
       "std         0.368612    24.559481       30.090047\n",
       "min         0.000000     0.000000       18.250000\n",
       "25%         0.000000     9.000000       35.500000\n",
       "50%         0.000000    29.000000       70.350000\n",
       "75%         0.000000    55.000000       89.850000\n",
       "max         1.000000    72.000000      118.750000"
      ]
     },
     "execution_count": 6,
     "metadata": {},
     "output_type": "execute_result"
    }
   ],
   "source": [
    "data.describe()"
   ]
  },
  {
   "cell_type": "code",
   "execution_count": 7,
   "metadata": {},
   "outputs": [
    {
     "data": {
      "text/plain": [
       "5174"
      ]
     },
     "execution_count": 7,
     "metadata": {},
     "output_type": "execute_result"
    }
   ],
   "source": [
    "data[\"Churn\"][data[\"Churn\"]==\"No\"].count()"
   ]
  },
  {
   "cell_type": "code",
   "execution_count": 8,
   "metadata": {},
   "outputs": [
    {
     "data": {
      "text/plain": [
       "1869"
      ]
     },
     "execution_count": 8,
     "metadata": {},
     "output_type": "execute_result"
    }
   ],
   "source": [
    "data[\"Churn\"][data[\"Churn\"]==\"Yes\"].count()"
   ]
  },
  {
   "cell_type": "code",
   "execution_count": 9,
   "metadata": {},
   "outputs": [
    {
     "data": {
      "text/plain": [
       "gender\n",
       "Female    2549\n",
       "Male      2625\n",
       "Name: Churn, dtype: int64"
      ]
     },
     "execution_count": 9,
     "metadata": {},
     "output_type": "execute_result"
    }
   ],
   "source": [
    "data[\"Churn\"][data[\"Churn\"]==\"No\"].groupby(by=data[\"gender\"]).count()"
   ]
  },
  {
   "cell_type": "code",
   "execution_count": 10,
   "metadata": {},
   "outputs": [
    {
     "data": {
      "text/plain": [
       "gender\n",
       "Female    939\n",
       "Male      930\n",
       "Name: Churn, dtype: int64"
      ]
     },
     "execution_count": 10,
     "metadata": {},
     "output_type": "execute_result"
    }
   ],
   "source": [
    "data[\"Churn\"][data[\"Churn\"]==\"Yes\"].groupby(by=data[\"gender\"]).count()"
   ]
  },
  {
   "cell_type": "code",
   "execution_count": 28,
   "metadata": {},
   "outputs": [
    {
     "data": {
      "text/plain": [
       "<Figure size 432x432 with 0 Axes>"
      ]
     },
     "metadata": {},
     "output_type": "display_data"
    }
   ],
   "source": [
    "plt.figure(figsize=(6, 6))\n",
    "labels =[\"Churn: Yes\",\"Churn:No\"]\n",
    "values = [1869,5163]\n",
    "labels_gender = [\"F\",\"M\",\"F\",\"M\"]\n",
    "sizes_gender = [939,930 , 2544,2619]\n",
    "colors = ['#ff6666', '#66b3ff']\n",
    "colors_gender = ['#c2c2f0','#ffb3e6', '#c2c2f0','#ffb3e6']\n",
    "explode = (0.3,0.3) \n",
    "explode_gender = (0.1,0.1,0.1,0.1)\n",
    "textprops = {\"fontsize\":15}"
   ]
  },
  {
   "cell_type": "code",
   "execution_count": 29,
   "metadata": {},
   "outputs": [
    {
     "data": {
      "image/png": "[encoded data removed]",
      "text/plain": [
       "<Figure size 432x288 with 1 Axes>"
      ]
     },
     "metadata": {},
     "output_type": "display_data"
    }
   ],
   "source": [
    "plt.pie(values, labels=labels,autopct='%1.1f%%',pctdistance=1.08, labeldistance=0.8,colors=colors, startangle=90,frame=True, explode=explode,radius=10, textprops =textprops, counterclock = True, )\n",
    "plt.pie(sizes_gender,labels=labels_gender,colors=colors_gender,startangle=90, explode=explode_gender,radius=7, textprops =textprops, counterclock = True, )\n",
    "centre_circle = plt.Circle((0,0),5,color='black', fc='white',linewidth=0)\n",
    "fig = plt.gcf()\n",
    "fig.gca().add_artist(centre_circle)\n",
    "\n",
    "plt.title('Churn Distribution w.r.t Gender', fontsize=15, y=1.1)#基于是否流失下的性别分布图\n",
    "plt.axis('equal')\n",
    "plt.tight_layout()\n",
    "plt.show()"
   ]
  },
  {
   "cell_type": "code",
   "execution_count": 30,
   "metadata": {},
   "outputs": [
    {
     "data": {
      "image/png": "[encoded data removed]",
      "text/plain": [
       "<Figure size 1800x720 with 2 Axes>"
      ]
     },
     "metadata": {
      "needs_background": "light"
     },
     "output_type": "display_data"
    }
   ],
   "source": [
    "plt.figure(figsize=(25, 10))\n",
    "\n",
    "corr = data.apply(lambda x: pd.factorize(x)[0]).corr()\n",
    "\n",
    "mask = np.triu(np.ones_like(corr, dtype=bool))\n",
    "\n",
    "ax = sns.heatmap(corr, mask=mask, xticklabels=corr.columns, yticklabels=corr.columns, annot=True, linewidths=.2, cmap='coolwarm', vmin=-1, vmax=1)"
   ]
  },
  {
   "cell_type": "code",
   "execution_count": 31,
   "metadata": {},
   "outputs": [
    {
     "data": {
      "text/html": [
       "<div>\n",
       "<style scoped>\n",
       "    .dataframe tbody tr th:only-of-type {\n",
       "        vertical-align: middle;\n",
       "    }\n",
       "\n",
       "    .dataframe tbody tr th {\n",
       "        vertical-align: top;\n",
       "    }\n",
       "\n",
       "    .dataframe thead th {\n",
       "        text-align: right;\n",
       "    }\n",
       "</style>\n",
       "<table border=\"1\" class=\"dataframe\">\n",
       "  <thead>\n",
       "    <tr style=\"text-align: right;\">\n",
       "      <th></th>\n",
       "      <th>gender</th>\n",
       "      <th>Partner</th>\n",
       "      <th>Dependents</th>\n",
       "      <th>PhoneService</th>\n",
       "      <th>MultipleLines</th>\n",
       "      <th>InternetService</th>\n",
       "      <th>OnlineSecurity</th>\n",
       "      <th>OnlineBackup</th>\n",
       "      <th>DeviceProtection</th>\n",
       "      <th>TechSupport</th>\n",
       "      <th>StreamingTV</th>\n",
       "      <th>StreamingMovies</th>\n",
       "      <th>Contract</th>\n",
       "      <th>PaperlessBilling</th>\n",
       "      <th>PaymentMethod</th>\n",
       "      <th>TotalCharges</th>\n",
       "    </tr>\n",
       "  </thead>\n",
       "  <tbody>\n",
       "    <tr>\n",
       "      <th>count</th>\n",
       "      <td>7043</td>\n",
       "      <td>7043</td>\n",
       "      <td>7043</td>\n",
       "      <td>7043</td>\n",
       "      <td>7043</td>\n",
       "      <td>7043</td>\n",
       "      <td>7043</td>\n",
       "      <td>7043</td>\n",
       "      <td>7043</td>\n",
       "      <td>7043</td>\n",
       "      <td>7043</td>\n",
       "      <td>7043</td>\n",
       "      <td>7043</td>\n",
       "      <td>7043</td>\n",
       "      <td>7043</td>\n",
       "      <td>7043</td>\n",
       "    </tr>\n",
       "    <tr>\n",
       "      <th>unique</th>\n",
       "      <td>2</td>\n",
       "      <td>2</td>\n",
       "      <td>2</td>\n",
       "      <td>2</td>\n",
       "      <td>3</td>\n",
       "      <td>3</td>\n",
       "      <td>3</td>\n",
       "      <td>3</td>\n",
       "      <td>3</td>\n",
       "      <td>3</td>\n",
       "      <td>3</td>\n",
       "      <td>3</td>\n",
       "      <td>3</td>\n",
       "      <td>2</td>\n",
       "      <td>4</td>\n",
       "      <td>6531</td>\n",
       "    </tr>\n",
       "    <tr>\n",
       "      <th>top</th>\n",
       "      <td>Male</td>\n",
       "      <td>No</td>\n",
       "      <td>No</td>\n",
       "      <td>Yes</td>\n",
       "      <td>No</td>\n",
       "      <td>Fiber optic</td>\n",
       "      <td>No</td>\n",
       "      <td>No</td>\n",
       "      <td>No</td>\n",
       "      <td>No</td>\n",
       "      <td>No</td>\n",
       "      <td>No</td>\n",
       "      <td>Month-to-month</td>\n",
       "      <td>Yes</td>\n",
       "      <td>Electronic check</td>\n",
       "      <td></td>\n",
       "    </tr>\n",
       "    <tr>\n",
       "      <th>freq</th>\n",
       "      <td>3555</td>\n",
       "      <td>3641</td>\n",
       "      <td>4933</td>\n",
       "      <td>6361</td>\n",
       "      <td>3390</td>\n",
       "      <td>3096</td>\n",
       "      <td>3498</td>\n",
       "      <td>3088</td>\n",
       "      <td>3095</td>\n",
       "      <td>3473</td>\n",
       "      <td>2810</td>\n",
       "      <td>2785</td>\n",
       "      <td>3875</td>\n",
       "      <td>4171</td>\n",
       "      <td>2365</td>\n",
       "      <td>11</td>\n",
       "    </tr>\n",
       "  </tbody>\n",
       "</table>\n",
       "</div>"
      ],
      "text/plain": [
       "       gender Partner Dependents PhoneService MultipleLines InternetService  \\\n",
       "count    7043    7043       7043         7043          7043            7043   \n",
       "unique      2       2          2            2             3               3   \n",
       "top      Male      No         No          Yes            No     Fiber optic   \n",
       "freq     3555    3641       4933         6361          3390            3096   \n",
       "\n",
       "       OnlineSecurity OnlineBackup DeviceProtection TechSupport StreamingTV  \\\n",
       "count            7043         7043             7043        7043        7043   \n",
       "unique              3            3                3           3           3   \n",
       "top                No           No               No          No          No   \n",
       "freq             3498         3088             3095        3473        2810   \n",
       "\n",
       "       StreamingMovies        Contract PaperlessBilling     PaymentMethod  \\\n",
       "count             7043            7043             7043              7043   \n",
       "unique               3               3                2                 4   \n",
       "top                 No  Month-to-month              Yes  Electronic check   \n",
       "freq              2785            3875             4171              2365   \n",
       "\n",
       "       TotalCharges  \n",
       "count          7043  \n",
       "unique         6531  \n",
       "top                  \n",
       "freq             11  "
      ]
     },
     "execution_count": 31,
     "metadata": {},
     "output_type": "execute_result"
    }
   ],
   "source": [
    "discrete_feature = data.drop(['customerID','Churn'],axis=1).describe(include=['object'])\n",
    "discrete_feature"
   ]
  },
  {
   "cell_type": "markdown",
   "metadata": {},
   "source": [
    "### 3.1.3 填充缺失值"
   ]
  },
  {
   "cell_type": "markdown",
   "metadata": {},
   "source": [
    "TotalCharges有少许缺失，用0填充"
   ]
  },
  {
   "cell_type": "code",
   "execution_count": 32,
   "metadata": {},
   "outputs": [],
   "source": [
    "data['TotalCharges']= data['TotalCharges'].fillna(0)"
   ]
  },
  {
   "cell_type": "code",
   "execution_count": 33,
   "metadata": {},
   "outputs": [
    {
     "data": {
      "text/plain": [
       "customerID          0\n",
       "gender              0\n",
       "SeniorCitizen       0\n",
       "Partner             0\n",
       "Dependents          0\n",
       "tenure              0\n",
       "PhoneService        0\n",
       "MultipleLines       0\n",
       "InternetService     0\n",
       "OnlineSecurity      0\n",
       "OnlineBackup        0\n",
       "DeviceProtection    0\n",
       "TechSupport         0\n",
       "StreamingTV         0\n",
       "StreamingMovies     0\n",
       "Contract            0\n",
       "PaperlessBilling    0\n",
       "PaymentMethod       0\n",
       "MonthlyCharges      0\n",
       "TotalCharges        0\n",
       "Churn               0\n",
       "dtype: int64"
      ]
     },
     "execution_count": 33,
     "metadata": {},
     "output_type": "execute_result"
    }
   ],
   "source": [
    "data.isnull().sum()"
   ]
  },
  {
   "cell_type": "markdown",
   "metadata": {},
   "source": [
    "### 3.1.4 离散特征向量化"
   ]
  },
  {
   "cell_type": "markdown",
   "metadata": {},
   "source": [
    "由于很多特征都是字符串形式，无法直接用于机器学习建模，所以需要将这些字符串转成0,1,2...的唯一向量  \n",
    "其中pandas.factorize可以将['b', 'b', 'a', 'c', 'b']转换为[1, 1, 0, 2, 1]"
   ]
  },
  {
   "cell_type": "code",
   "execution_count": 34,
   "metadata": {},
   "outputs": [],
   "source": [
    "for f in discrete_feature.columns:\n",
    "    data[f] = pd.factorize(data[f])[0]"
   ]
  },
  {
   "cell_type": "code",
   "execution_count": 35,
   "metadata": {},
   "outputs": [
    {
     "data": {
      "text/html": [
       "<div>\n",
       "<style scoped>\n",
       "    .dataframe tbody tr th:only-of-type {\n",
       "        vertical-align: middle;\n",
       "    }\n",
       "\n",
       "    .dataframe tbody tr th {\n",
       "        vertical-align: top;\n",
       "    }\n",
       "\n",
       "    .dataframe thead th {\n",
       "        text-align: right;\n",
       "    }\n",
       "</style>\n",
       "<table border=\"1\" class=\"dataframe\">\n",
       "  <thead>\n",
       "    <tr style=\"text-align: right;\">\n",
       "      <th></th>\n",
       "      <th>gender</th>\n",
       "      <th>SeniorCitizen</th>\n",
       "      <th>Partner</th>\n",
       "      <th>Dependents</th>\n",
       "      <th>tenure</th>\n",
       "      <th>PhoneService</th>\n",
       "      <th>MultipleLines</th>\n",
       "      <th>InternetService</th>\n",
       "      <th>OnlineSecurity</th>\n",
       "      <th>OnlineBackup</th>\n",
       "      <th>DeviceProtection</th>\n",
       "      <th>TechSupport</th>\n",
       "      <th>StreamingTV</th>\n",
       "      <th>StreamingMovies</th>\n",
       "      <th>Contract</th>\n",
       "      <th>PaperlessBilling</th>\n",
       "      <th>PaymentMethod</th>\n",
       "      <th>MonthlyCharges</th>\n",
       "      <th>TotalCharges</th>\n",
       "    </tr>\n",
       "  </thead>\n",
       "  <tbody>\n",
       "    <tr>\n",
       "      <th>gender</th>\n",
       "      <td>1.000000</td>\n",
       "      <td>-0.001874</td>\n",
       "      <td>0.001808</td>\n",
       "      <td>0.010517</td>\n",
       "      <td>0.005106</td>\n",
       "      <td>-0.006488</td>\n",
       "      <td>-0.009451</td>\n",
       "      <td>-0.000863</td>\n",
       "      <td>-0.003429</td>\n",
       "      <td>0.012230</td>\n",
       "      <td>0.005092</td>\n",
       "      <td>0.000985</td>\n",
       "      <td>0.001156</td>\n",
       "      <td>-0.000191</td>\n",
       "      <td>0.000126</td>\n",
       "      <td>0.011754</td>\n",
       "      <td>-0.005209</td>\n",
       "      <td>-0.014569</td>\n",
       "      <td>-0.012302</td>\n",
       "    </tr>\n",
       "    <tr>\n",
       "      <th>SeniorCitizen</th>\n",
       "      <td>-0.001874</td>\n",
       "      <td>1.000000</td>\n",
       "      <td>-0.016479</td>\n",
       "      <td>-0.211185</td>\n",
       "      <td>0.016567</td>\n",
       "      <td>0.008576</td>\n",
       "      <td>0.113791</td>\n",
       "      <td>-0.032310</td>\n",
       "      <td>-0.210897</td>\n",
       "      <td>-0.144828</td>\n",
       "      <td>-0.157095</td>\n",
       "      <td>-0.223770</td>\n",
       "      <td>-0.130130</td>\n",
       "      <td>-0.120802</td>\n",
       "      <td>-0.142554</td>\n",
       "      <td>-0.156530</td>\n",
       "      <td>-0.093704</td>\n",
       "      <td>0.220173</td>\n",
       "      <td>0.023880</td>\n",
       "    </tr>\n",
       "    <tr>\n",
       "      <th>Partner</th>\n",
       "      <td>0.001808</td>\n",
       "      <td>-0.016479</td>\n",
       "      <td>1.000000</td>\n",
       "      <td>-0.452676</td>\n",
       "      <td>-0.379697</td>\n",
       "      <td>-0.017706</td>\n",
       "      <td>-0.117307</td>\n",
       "      <td>-0.000891</td>\n",
       "      <td>-0.081850</td>\n",
       "      <td>0.090753</td>\n",
       "      <td>-0.094451</td>\n",
       "      <td>-0.069072</td>\n",
       "      <td>-0.080127</td>\n",
       "      <td>-0.075779</td>\n",
       "      <td>-0.294806</td>\n",
       "      <td>-0.014877</td>\n",
       "      <td>-0.133115</td>\n",
       "      <td>-0.096848</td>\n",
       "      <td>-0.042628</td>\n",
       "    </tr>\n",
       "    <tr>\n",
       "      <th>Dependents</th>\n",
       "      <td>0.010517</td>\n",
       "      <td>-0.211185</td>\n",
       "      <td>-0.452676</td>\n",
       "      <td>1.000000</td>\n",
       "      <td>0.159712</td>\n",
       "      <td>-0.001762</td>\n",
       "      <td>-0.019657</td>\n",
       "      <td>0.044590</td>\n",
       "      <td>0.190523</td>\n",
       "      <td>0.062775</td>\n",
       "      <td>0.156439</td>\n",
       "      <td>0.180832</td>\n",
       "      <td>0.140395</td>\n",
       "      <td>0.125820</td>\n",
       "      <td>0.243187</td>\n",
       "      <td>0.111377</td>\n",
       "      <td>0.123844</td>\n",
       "      <td>-0.113890</td>\n",
       "      <td>0.006300</td>\n",
       "    </tr>\n",
       "    <tr>\n",
       "      <th>tenure</th>\n",
       "      <td>0.005106</td>\n",
       "      <td>0.016567</td>\n",
       "      <td>-0.379697</td>\n",
       "      <td>0.159712</td>\n",
       "      <td>1.000000</td>\n",
       "      <td>0.008448</td>\n",
       "      <td>0.258958</td>\n",
       "      <td>-0.030359</td>\n",
       "      <td>0.145298</td>\n",
       "      <td>-0.253743</td>\n",
       "      <td>0.178649</td>\n",
       "      <td>0.144459</td>\n",
       "      <td>0.136145</td>\n",
       "      <td>0.140781</td>\n",
       "      <td>0.671607</td>\n",
       "      <td>-0.006152</td>\n",
       "      <td>0.340305</td>\n",
       "      <td>0.247900</td>\n",
       "      <td>0.100469</td>\n",
       "    </tr>\n",
       "    <tr>\n",
       "      <th>PhoneService</th>\n",
       "      <td>-0.006488</td>\n",
       "      <td>0.008576</td>\n",
       "      <td>-0.017706</td>\n",
       "      <td>-0.001762</td>\n",
       "      <td>0.008448</td>\n",
       "      <td>1.000000</td>\n",
       "      <td>0.675070</td>\n",
       "      <td>0.387436</td>\n",
       "      <td>0.125353</td>\n",
       "      <td>0.129770</td>\n",
       "      <td>0.138755</td>\n",
       "      <td>0.123350</td>\n",
       "      <td>0.171538</td>\n",
       "      <td>0.165205</td>\n",
       "      <td>0.002247</td>\n",
       "      <td>-0.016505</td>\n",
       "      <td>-0.004070</td>\n",
       "      <td>0.247398</td>\n",
       "      <td>-0.029806</td>\n",
       "    </tr>\n",
       "    <tr>\n",
       "      <th>MultipleLines</th>\n",
       "      <td>-0.009451</td>\n",
       "      <td>0.113791</td>\n",
       "      <td>-0.117307</td>\n",
       "      <td>-0.019657</td>\n",
       "      <td>0.258958</td>\n",
       "      <td>0.675070</td>\n",
       "      <td>1.000000</td>\n",
       "      <td>0.186826</td>\n",
       "      <td>-0.066844</td>\n",
       "      <td>-0.130619</td>\n",
       "      <td>-0.013069</td>\n",
       "      <td>-0.066684</td>\n",
       "      <td>0.030195</td>\n",
       "      <td>0.028187</td>\n",
       "      <td>0.083343</td>\n",
       "      <td>-0.133255</td>\n",
       "      <td>0.025676</td>\n",
       "      <td>0.490700</td>\n",
       "      <td>0.015373</td>\n",
       "    </tr>\n",
       "    <tr>\n",
       "      <th>InternetService</th>\n",
       "      <td>-0.000863</td>\n",
       "      <td>-0.032310</td>\n",
       "      <td>-0.000891</td>\n",
       "      <td>0.044590</td>\n",
       "      <td>-0.030359</td>\n",
       "      <td>0.387436</td>\n",
       "      <td>0.186826</td>\n",
       "      <td>1.000000</td>\n",
       "      <td>0.607788</td>\n",
       "      <td>0.650962</td>\n",
       "      <td>0.662957</td>\n",
       "      <td>0.609795</td>\n",
       "      <td>0.712890</td>\n",
       "      <td>0.709020</td>\n",
       "      <td>0.099721</td>\n",
       "      <td>0.138625</td>\n",
       "      <td>0.008124</td>\n",
       "      <td>-0.323260</td>\n",
       "      <td>-0.038247</td>\n",
       "    </tr>\n",
       "    <tr>\n",
       "      <th>OnlineSecurity</th>\n",
       "      <td>-0.003429</td>\n",
       "      <td>-0.210897</td>\n",
       "      <td>-0.081850</td>\n",
       "      <td>0.190523</td>\n",
       "      <td>0.145298</td>\n",
       "      <td>0.125353</td>\n",
       "      <td>-0.066844</td>\n",
       "      <td>0.607788</td>\n",
       "      <td>1.000000</td>\n",
       "      <td>0.621739</td>\n",
       "      <td>0.749040</td>\n",
       "      <td>0.791225</td>\n",
       "      <td>0.701976</td>\n",
       "      <td>0.704984</td>\n",
       "      <td>0.389978</td>\n",
       "      <td>0.334003</td>\n",
       "      <td>0.213800</td>\n",
       "      <td>-0.621227</td>\n",
       "      <td>-0.026788</td>\n",
       "    </tr>\n",
       "    <tr>\n",
       "      <th>OnlineBackup</th>\n",
       "      <td>0.012230</td>\n",
       "      <td>-0.144828</td>\n",
       "      <td>0.090753</td>\n",
       "      <td>0.062775</td>\n",
       "      <td>-0.253743</td>\n",
       "      <td>0.129770</td>\n",
       "      <td>-0.130619</td>\n",
       "      <td>0.650962</td>\n",
       "      <td>0.621739</td>\n",
       "      <td>1.000000</td>\n",
       "      <td>0.601503</td>\n",
       "      <td>0.617003</td>\n",
       "      <td>0.604117</td>\n",
       "      <td>0.606863</td>\n",
       "      <td>0.035407</td>\n",
       "      <td>0.260715</td>\n",
       "      <td>0.003183</td>\n",
       "      <td>-0.710477</td>\n",
       "      <td>-0.054537</td>\n",
       "    </tr>\n",
       "    <tr>\n",
       "      <th>DeviceProtection</th>\n",
       "      <td>0.005092</td>\n",
       "      <td>-0.157095</td>\n",
       "      <td>-0.094451</td>\n",
       "      <td>0.156439</td>\n",
       "      <td>0.178649</td>\n",
       "      <td>0.138755</td>\n",
       "      <td>-0.013069</td>\n",
       "      <td>0.662957</td>\n",
       "      <td>0.749040</td>\n",
       "      <td>0.601503</td>\n",
       "      <td>1.000000</td>\n",
       "      <td>0.767970</td>\n",
       "      <td>0.763279</td>\n",
       "      <td>0.766821</td>\n",
       "      <td>0.390216</td>\n",
       "      <td>0.276326</td>\n",
       "      <td>0.191746</td>\n",
       "      <td>-0.513440</td>\n",
       "      <td>-0.025159</td>\n",
       "    </tr>\n",
       "    <tr>\n",
       "      <th>TechSupport</th>\n",
       "      <td>0.000985</td>\n",
       "      <td>-0.223770</td>\n",
       "      <td>-0.069072</td>\n",
       "      <td>0.180832</td>\n",
       "      <td>0.144459</td>\n",
       "      <td>0.123350</td>\n",
       "      <td>-0.066684</td>\n",
       "      <td>0.609795</td>\n",
       "      <td>0.791225</td>\n",
       "      <td>0.617003</td>\n",
       "      <td>0.767970</td>\n",
       "      <td>1.000000</td>\n",
       "      <td>0.737578</td>\n",
       "      <td>0.737123</td>\n",
       "      <td>0.418440</td>\n",
       "      <td>0.310749</td>\n",
       "      <td>0.216878</td>\n",
       "      <td>-0.597594</td>\n",
       "      <td>-0.021945</td>\n",
       "    </tr>\n",
       "    <tr>\n",
       "      <th>StreamingTV</th>\n",
       "      <td>0.001156</td>\n",
       "      <td>-0.130130</td>\n",
       "      <td>-0.080127</td>\n",
       "      <td>0.140395</td>\n",
       "      <td>0.136145</td>\n",
       "      <td>0.171538</td>\n",
       "      <td>0.030195</td>\n",
       "      <td>0.712890</td>\n",
       "      <td>0.701976</td>\n",
       "      <td>0.604117</td>\n",
       "      <td>0.763279</td>\n",
       "      <td>0.737578</td>\n",
       "      <td>1.000000</td>\n",
       "      <td>0.809608</td>\n",
       "      <td>0.327951</td>\n",
       "      <td>0.203907</td>\n",
       "      <td>0.117618</td>\n",
       "      <td>-0.423067</td>\n",
       "      <td>-0.018643</td>\n",
       "    </tr>\n",
       "    <tr>\n",
       "      <th>StreamingMovies</th>\n",
       "      <td>-0.000191</td>\n",
       "      <td>-0.120802</td>\n",
       "      <td>-0.075779</td>\n",
       "      <td>0.125820</td>\n",
       "      <td>0.140781</td>\n",
       "      <td>0.165205</td>\n",
       "      <td>0.028187</td>\n",
       "      <td>0.709020</td>\n",
       "      <td>0.704984</td>\n",
       "      <td>0.606863</td>\n",
       "      <td>0.766821</td>\n",
       "      <td>0.737123</td>\n",
       "      <td>0.809608</td>\n",
       "      <td>1.000000</td>\n",
       "      <td>0.330993</td>\n",
       "      <td>0.211818</td>\n",
       "      <td>0.123869</td>\n",
       "      <td>-0.424598</td>\n",
       "      <td>-0.026122</td>\n",
       "    </tr>\n",
       "    <tr>\n",
       "      <th>Contract</th>\n",
       "      <td>0.000126</td>\n",
       "      <td>-0.142554</td>\n",
       "      <td>-0.294806</td>\n",
       "      <td>0.243187</td>\n",
       "      <td>0.671607</td>\n",
       "      <td>0.002247</td>\n",
       "      <td>0.083343</td>\n",
       "      <td>0.099721</td>\n",
       "      <td>0.389978</td>\n",
       "      <td>0.035407</td>\n",
       "      <td>0.390216</td>\n",
       "      <td>0.418440</td>\n",
       "      <td>0.327951</td>\n",
       "      <td>0.330993</td>\n",
       "      <td>1.000000</td>\n",
       "      <td>0.176733</td>\n",
       "      <td>0.358913</td>\n",
       "      <td>-0.074195</td>\n",
       "      <td>0.051905</td>\n",
       "    </tr>\n",
       "    <tr>\n",
       "      <th>PaperlessBilling</th>\n",
       "      <td>0.011754</td>\n",
       "      <td>-0.156530</td>\n",
       "      <td>-0.014877</td>\n",
       "      <td>0.111377</td>\n",
       "      <td>-0.006152</td>\n",
       "      <td>-0.016505</td>\n",
       "      <td>-0.133255</td>\n",
       "      <td>0.138625</td>\n",
       "      <td>0.334003</td>\n",
       "      <td>0.260715</td>\n",
       "      <td>0.276326</td>\n",
       "      <td>0.310749</td>\n",
       "      <td>0.203907</td>\n",
       "      <td>0.211818</td>\n",
       "      <td>0.176733</td>\n",
       "      <td>1.000000</td>\n",
       "      <td>0.101480</td>\n",
       "      <td>-0.352150</td>\n",
       "      <td>-0.011179</td>\n",
       "    </tr>\n",
       "    <tr>\n",
       "      <th>PaymentMethod</th>\n",
       "      <td>-0.005209</td>\n",
       "      <td>-0.093704</td>\n",
       "      <td>-0.133115</td>\n",
       "      <td>0.123844</td>\n",
       "      <td>0.340305</td>\n",
       "      <td>-0.004070</td>\n",
       "      <td>0.025676</td>\n",
       "      <td>0.008124</td>\n",
       "      <td>0.213800</td>\n",
       "      <td>0.003183</td>\n",
       "      <td>0.191746</td>\n",
       "      <td>0.216878</td>\n",
       "      <td>0.117618</td>\n",
       "      <td>0.123869</td>\n",
       "      <td>0.358913</td>\n",
       "      <td>0.101480</td>\n",
       "      <td>1.000000</td>\n",
       "      <td>-0.074353</td>\n",
       "      <td>0.008458</td>\n",
       "    </tr>\n",
       "    <tr>\n",
       "      <th>MonthlyCharges</th>\n",
       "      <td>-0.014569</td>\n",
       "      <td>0.220173</td>\n",
       "      <td>-0.096848</td>\n",
       "      <td>-0.113890</td>\n",
       "      <td>0.247900</td>\n",
       "      <td>0.247398</td>\n",
       "      <td>0.490700</td>\n",
       "      <td>-0.323260</td>\n",
       "      <td>-0.621227</td>\n",
       "      <td>-0.710477</td>\n",
       "      <td>-0.513440</td>\n",
       "      <td>-0.597594</td>\n",
       "      <td>-0.423067</td>\n",
       "      <td>-0.424598</td>\n",
       "      <td>-0.074195</td>\n",
       "      <td>-0.352150</td>\n",
       "      <td>-0.074353</td>\n",
       "      <td>1.000000</td>\n",
       "      <td>0.044929</td>\n",
       "    </tr>\n",
       "    <tr>\n",
       "      <th>TotalCharges</th>\n",
       "      <td>-0.012302</td>\n",
       "      <td>0.023880</td>\n",
       "      <td>-0.042628</td>\n",
       "      <td>0.006300</td>\n",
       "      <td>0.100469</td>\n",
       "      <td>-0.029806</td>\n",
       "      <td>0.015373</td>\n",
       "      <td>-0.038247</td>\n",
       "      <td>-0.026788</td>\n",
       "      <td>-0.054537</td>\n",
       "      <td>-0.025159</td>\n",
       "      <td>-0.021945</td>\n",
       "      <td>-0.018643</td>\n",
       "      <td>-0.026122</td>\n",
       "      <td>0.051905</td>\n",
       "      <td>-0.011179</td>\n",
       "      <td>0.008458</td>\n",
       "      <td>0.044929</td>\n",
       "      <td>1.000000</td>\n",
       "    </tr>\n",
       "  </tbody>\n",
       "</table>\n",
       "</div>"
      ],
      "text/plain": [
       "                    gender  SeniorCitizen   Partner  Dependents    tenure  \\\n",
       "gender            1.000000      -0.001874  0.001808    0.010517  0.005106   \n",
       "SeniorCitizen    -0.001874       1.000000 -0.016479   -0.211185  0.016567   \n",
       "Partner           0.001808      -0.016479  1.000000   -0.452676 -0.379697   \n",
       "Dependents        0.010517      -0.211185 -0.452676    1.000000  0.159712   \n",
       "tenure            0.005106       0.016567 -0.379697    0.159712  1.000000   \n",
       "PhoneService     -0.006488       0.008576 -0.017706   -0.001762  0.008448   \n",
       "MultipleLines    -0.009451       0.113791 -0.117307   -0.019657  0.258958   \n",
       "InternetService  -0.000863      -0.032310 -0.000891    0.044590 -0.030359   \n",
       "OnlineSecurity   -0.003429      -0.210897 -0.081850    0.190523  0.145298   \n",
       "OnlineBackup      0.012230      -0.144828  0.090753    0.062775 -0.253743   \n",
       "DeviceProtection  0.005092      -0.157095 -0.094451    0.156439  0.178649   \n",
       "TechSupport       0.000985      -0.223770 -0.069072    0.180832  0.144459   \n",
       "StreamingTV       0.001156      -0.130130 -0.080127    0.140395  0.136145   \n",
       "StreamingMovies  -0.000191      -0.120802 -0.075779    0.125820  0.140781   \n",
       "Contract          0.000126      -0.142554 -0.294806    0.243187  0.671607   \n",
       "PaperlessBilling  0.011754      -0.156530 -0.014877    0.111377 -0.006152   \n",
       "PaymentMethod    -0.005209      -0.093704 -0.133115    0.123844  0.340305   \n",
       "MonthlyCharges   -0.014569       0.220173 -0.096848   -0.113890  0.247900   \n",
       "TotalCharges     -0.012302       0.023880 -0.042628    0.006300  0.100469   \n",
       "\n",
       "                  PhoneService  MultipleLines  InternetService  \\\n",
       "gender               -0.006488      -0.009451        -0.000863   \n",
       "SeniorCitizen         0.008576       0.113791        -0.032310   \n",
       "Partner              -0.017706      -0.117307        -0.000891   \n",
       "Dependents           -0.001762      -0.019657         0.044590   \n",
       "tenure                0.008448       0.258958        -0.030359   \n",
       "PhoneService          1.000000       0.675070         0.387436   \n",
       "MultipleLines         0.675070       1.000000         0.186826   \n",
       "InternetService       0.387436       0.186826         1.000000   \n",
       "OnlineSecurity        0.125353      -0.066844         0.607788   \n",
       "OnlineBackup          0.129770      -0.130619         0.650962   \n",
       "DeviceProtection      0.138755      -0.013069         0.662957   \n",
       "TechSupport           0.123350      -0.066684         0.609795   \n",
       "StreamingTV           0.171538       0.030195         0.712890   \n",
       "StreamingMovies       0.165205       0.028187         0.709020   \n",
       "Contract              0.002247       0.083343         0.099721   \n",
       "PaperlessBilling     -0.016505      -0.133255         0.138625   \n",
       "PaymentMethod        -0.004070       0.025676         0.008124   \n",
       "MonthlyCharges        0.247398       0.490700        -0.323260   \n",
       "TotalCharges         -0.029806       0.015373        -0.038247   \n",
       "\n",
       "                  OnlineSecurity  OnlineBackup  DeviceProtection  TechSupport  \\\n",
       "gender                 -0.003429      0.012230          0.005092     0.000985   \n",
       "SeniorCitizen          -0.210897     -0.144828         -0.157095    -0.223770   \n",
       "Partner                -0.081850      0.090753         -0.094451    -0.069072   \n",
       "Dependents              0.190523      0.062775          0.156439     0.180832   \n",
       "tenure                  0.145298     -0.253743          0.178649     0.144459   \n",
       "PhoneService            0.125353      0.129770          0.138755     0.123350   \n",
       "MultipleLines          -0.066844     -0.130619         -0.013069    -0.066684   \n",
       "InternetService         0.607788      0.650962          0.662957     0.609795   \n",
       "OnlineSecurity          1.000000      0.621739          0.749040     0.791225   \n",
       "OnlineBackup            0.621739      1.000000          0.601503     0.617003   \n",
       "DeviceProtection        0.749040      0.601503          1.000000     0.767970   \n",
       "TechSupport             0.791225      0.617003          0.767970     1.000000   \n",
       "StreamingTV             0.701976      0.604117          0.763279     0.737578   \n",
       "StreamingMovies         0.704984      0.606863          0.766821     0.737123   \n",
       "Contract                0.389978      0.035407          0.390216     0.418440   \n",
       "PaperlessBilling        0.334003      0.260715          0.276326     0.310749   \n",
       "PaymentMethod           0.213800      0.003183          0.191746     0.216878   \n",
       "MonthlyCharges         -0.621227     -0.710477         -0.513440    -0.597594   \n",
       "TotalCharges           -0.026788     -0.054537         -0.025159    -0.021945   \n",
       "\n",
       "                  StreamingTV  StreamingMovies  Contract  PaperlessBilling  \\\n",
       "gender               0.001156        -0.000191  0.000126          0.011754   \n",
       "SeniorCitizen       -0.130130        -0.120802 -0.142554         -0.156530   \n",
       "Partner             -0.080127        -0.075779 -0.294806         -0.014877   \n",
       "Dependents           0.140395         0.125820  0.243187          0.111377   \n",
       "tenure               0.136145         0.140781  0.671607         -0.006152   \n",
       "PhoneService         0.171538         0.165205  0.002247         -0.016505   \n",
       "MultipleLines        0.030195         0.028187  0.083343         -0.133255   \n",
       "InternetService      0.712890         0.709020  0.099721          0.138625   \n",
       "OnlineSecurity       0.701976         0.704984  0.389978          0.334003   \n",
       "OnlineBackup         0.604117         0.606863  0.035407          0.260715   \n",
       "DeviceProtection     0.763279         0.766821  0.390216          0.276326   \n",
       "TechSupport          0.737578         0.737123  0.418440          0.310749   \n",
       "StreamingTV          1.000000         0.809608  0.327951          0.203907   \n",
       "StreamingMovies      0.809608         1.000000  0.330993          0.211818   \n",
       "Contract             0.327951         0.330993  1.000000          0.176733   \n",
       "PaperlessBilling     0.203907         0.211818  0.176733          1.000000   \n",
       "PaymentMethod        0.117618         0.123869  0.358913          0.101480   \n",
       "MonthlyCharges      -0.423067        -0.424598 -0.074195         -0.352150   \n",
       "TotalCharges        -0.018643        -0.026122  0.051905         -0.011179   \n",
       "\n",
       "                  PaymentMethod  MonthlyCharges  TotalCharges  \n",
       "gender                -0.005209       -0.014569     -0.012302  \n",
       "SeniorCitizen         -0.093704        0.220173      0.023880  \n",
       "Partner               -0.133115       -0.096848     -0.042628  \n",
       "Dependents             0.123844       -0.113890      0.006300  \n",
       "tenure                 0.340305        0.247900      0.100469  \n",
       "PhoneService          -0.004070        0.247398     -0.029806  \n",
       "MultipleLines          0.025676        0.490700      0.015373  \n",
       "InternetService        0.008124       -0.323260     -0.038247  \n",
       "OnlineSecurity         0.213800       -0.621227     -0.026788  \n",
       "OnlineBackup           0.003183       -0.710477     -0.054537  \n",
       "DeviceProtection       0.191746       -0.513440     -0.025159  \n",
       "TechSupport            0.216878       -0.597594     -0.021945  \n",
       "StreamingTV            0.117618       -0.423067     -0.018643  \n",
       "StreamingMovies        0.123869       -0.424598     -0.026122  \n",
       "Contract               0.358913       -0.074195      0.051905  \n",
       "PaperlessBilling       0.101480       -0.352150     -0.011179  \n",
       "PaymentMethod          1.000000       -0.074353      0.008458  \n",
       "MonthlyCharges        -0.074353        1.000000      0.044929  \n",
       "TotalCharges           0.008458        0.044929      1.000000  "
      ]
     },
     "execution_count": 35,
     "metadata": {},
     "output_type": "execute_result"
    }
   ],
   "source": [
    "data.corr()"
   ]
  },
  {
   "cell_type": "markdown",
   "metadata": {},
   "source": [
    "## 3.2 建模数据准备"
   ]
  },
  {
   "cell_type": "markdown",
   "metadata": {},
   "source": [
    "### 3.2.1 构建特征数据和标签数据"
   ]
  },
  {
   "cell_type": "markdown",
   "metadata": {},
   "source": [
    "customerID并不是用户特征列，在建模时可以先进行删除；Churn是标签列，由于其由No和Yes的字符串组成，所以进行0和1的替换。"
   ]
  },
  {
   "cell_type": "code",
   "execution_count": 36,
   "metadata": {},
   "outputs": [],
   "source": [
    "from sklearn.model_selection import train_test_split"
   ]
  },
  {
   "cell_type": "code",
   "execution_count": 37,
   "metadata": {},
   "outputs": [],
   "source": [
    "X = data.drop(['customerID','Churn'],axis=1)\n",
    "y = data['Churn'].replace({'No':0,'Yes':1})"
   ]
  },
  {
   "cell_type": "markdown",
   "metadata": {},
   "source": [
    "### 3.2.2 分割训练测试集"
   ]
  },
  {
   "cell_type": "markdown",
   "metadata": {},
   "source": [
    "按照70%和30%分割训练集和测试集"
   ]
  },
  {
   "cell_type": "code",
   "execution_count": 38,
   "metadata": {},
   "outputs": [],
   "source": [
    "X_train,X_test,y_train,y_test = train_test_split(X, y, test_size=0.3, random_state=0)"
   ]
  },
  {
   "cell_type": "markdown",
   "metadata": {},
   "source": [
    "## 3.3 模型构建"
   ]
  },
  {
   "cell_type": "markdown",
   "metadata": {},
   "source": [
    "### 3.3.1 算法包导入"
   ]
  },
  {
   "cell_type": "markdown",
   "metadata": {},
   "source": [
    "需要配置graphviz进行可视化，请参考 https://www.graphviz.org/download/ 进行安装配置，并修改第一部分graphviz_path的路径参数"
   ]
  },
  {
   "cell_type": "code",
   "execution_count": 40,
   "metadata": {},
   "outputs": [],
   "source": [
    "from sklearn.ensemble import GradientBoostingClassifier\n",
    "from sklearn.linear_model import LogisticRegression\n",
    "from sklearn.metrics import accuracy_score"
   ]
  },
  {
   "cell_type": "code",
   "execution_count": 41,
   "metadata": {},
   "outputs": [],
   "source": [
    "import os\n",
    "import pydotplus\n",
    "from sklearn import tree\n",
    "from IPython.display import Image"
   ]
  },
  {
   "cell_type": "code",
   "execution_count": 42,
   "metadata": {},
   "outputs": [],
   "source": [
    "graphviz_path = r'C:\\Program Files\\Graphviz\\bin'"
   ]
  },
  {
   "cell_type": "code",
   "execution_count": 43,
   "metadata": {},
   "outputs": [],
   "source": [
    "os.environ[\"PATH\"] += os.pathsep + graphviz_path"
   ]
  },
  {
   "cell_type": "markdown",
   "metadata": {},
   "source": [
    "### 3.3.2 模型训练"
   ]
  },
  {
   "cell_type": "markdown",
   "metadata": {},
   "source": [
    "训练模型，并对GBDT的树进行可视化"
   ]
  },
  {
   "cell_type": "code",
   "execution_count": 72,
   "metadata": {},
   "outputs": [
    {
     "data": {
      "text/plain": [
       "GradientBoostingClassifier(criterion='friedman_mse', init=None,\n",
       "                           learning_rate=0.1, loss='deviance', max_depth=2,\n",
       "                           max_features=None, max_leaf_nodes=None,\n",
       "                           min_impurity_decrease=0.0, min_impurity_split=None,\n",
       "                           min_samples_leaf=1, min_samples_split=2,\n",
       "                           min_weight_fraction_leaf=0.0, n_estimators=2,\n",
       "                           n_iter_no_change=None, presort='auto',\n",
       "                           random_state=None, subsample=1.0, tol=0.0001,\n",
       "                           validation_fraction=0.1, verbose=0,\n",
       "                           warm_start=False)"
      ]
     },
     "execution_count": 72,
     "metadata": {},
     "output_type": "execute_result"
    }
   ],
   "source": [
    "f_name = [i for i in X.columns]  # 用于后续树模型画图\n",
    "gbdt = GradientBoostingClassifier(n_estimators=2,max_depth=2)\n",
    "gbdt.fit(X_train,y_train)"
   ]
  },
  {
   "cell_type": "code",
   "execution_count": 73,
   "metadata": {},
   "outputs": [
    {
     "data": {
      "image/png": "[encoded data removed]",
      "text/plain": [
       "<IPython.core.display.Image object>"
      ]
     },
     "execution_count": 73,
     "metadata": {},
     "output_type": "execute_result"
    }
   ],
   "source": [
    "clf = gbdt.estimators_[0][0] \n",
    "dot_data = tree.export_graphviz(clf, out_file=None,feature_names=f_name,filled=True, rounded=True,\n",
    "                                special_characters=True,proportion=False,rotate=False,precision=2)\n",
    "\n",
    "graph = pydotplus.graph_from_dot_data(dot_data)\n",
    "Image(graph.create_png())"
   ]
  },
  {
   "cell_type": "markdown",
   "metadata": {},
   "source": [
    "### 3.3.3 抽取GBDT树特征并形成新特征数据"
   ]
  },
  {
   "cell_type": "code",
   "execution_count": 74,
   "metadata": {},
   "outputs": [
    {
     "data": {
      "text/html": [
       "<div>\n",
       "<style scoped>\n",
       "    .dataframe tbody tr th:only-of-type {\n",
       "        vertical-align: middle;\n",
       "    }\n",
       "\n",
       "    .dataframe tbody tr th {\n",
       "        vertical-align: top;\n",
       "    }\n",
       "\n",
       "    .dataframe thead th {\n",
       "        text-align: right;\n",
       "    }\n",
       "</style>\n",
       "<table border=\"1\" class=\"dataframe\">\n",
       "  <thead>\n",
       "    <tr style=\"text-align: right;\">\n",
       "      <th></th>\n",
       "      <th>tree1</th>\n",
       "      <th>tree2</th>\n",
       "    </tr>\n",
       "  </thead>\n",
       "  <tbody>\n",
       "    <tr>\n",
       "      <th>0</th>\n",
       "      <td>2.0</td>\n",
       "      <td>3.0</td>\n",
       "    </tr>\n",
       "    <tr>\n",
       "      <th>1</th>\n",
       "      <td>2.0</td>\n",
       "      <td>3.0</td>\n",
       "    </tr>\n",
       "    <tr>\n",
       "      <th>2</th>\n",
       "      <td>5.0</td>\n",
       "      <td>5.0</td>\n",
       "    </tr>\n",
       "    <tr>\n",
       "      <th>3</th>\n",
       "      <td>5.0</td>\n",
       "      <td>5.0</td>\n",
       "    </tr>\n",
       "    <tr>\n",
       "      <th>4</th>\n",
       "      <td>3.0</td>\n",
       "      <td>2.0</td>\n",
       "    </tr>\n",
       "  </tbody>\n",
       "</table>\n",
       "</div>"
      ],
      "text/plain": [
       "   tree1  tree2\n",
       "0    2.0    3.0\n",
       "1    2.0    3.0\n",
       "2    5.0    5.0\n",
       "3    5.0    5.0\n",
       "4    3.0    2.0"
      ]
     },
     "execution_count": 74,
     "metadata": {},
     "output_type": "execute_result"
    }
   ],
   "source": [
    "new_feature = pd.DataFrame(gbdt.apply(X_train).reshape(-1,2),columns=['tree1','tree2'])\n",
    "new_feature.head()"
   ]
  },
  {
   "cell_type": "code",
   "execution_count": 76,
   "metadata": {},
   "outputs": [
    {
     "data": {
      "text/plain": [
       "(4930, 2)"
      ]
     },
     "execution_count": 76,
     "metadata": {},
     "output_type": "execute_result"
    }
   ],
   "source": [
    "new_feature.shape"
   ]
  },
  {
   "cell_type": "code",
   "execution_count": 77,
   "metadata": {},
   "outputs": [
    {
     "data": {
      "text/html": [
       "<div>\n",
       "<style scoped>\n",
       "    .dataframe tbody tr th:only-of-type {\n",
       "        vertical-align: middle;\n",
       "    }\n",
       "\n",
       "    .dataframe tbody tr th {\n",
       "        vertical-align: top;\n",
       "    }\n",
       "\n",
       "    .dataframe thead th {\n",
       "        text-align: right;\n",
       "    }\n",
       "</style>\n",
       "<table border=\"1\" class=\"dataframe\">\n",
       "  <thead>\n",
       "    <tr style=\"text-align: right;\">\n",
       "      <th></th>\n",
       "      <th>clf_2.0</th>\n",
       "      <th>clf_3.0</th>\n",
       "      <th>clf_5.0</th>\n",
       "      <th>clf_6.0</th>\n",
       "      <th>clf_2.0</th>\n",
       "      <th>clf_3.0</th>\n",
       "      <th>clf_5.0</th>\n",
       "      <th>clf_6.0</th>\n",
       "    </tr>\n",
       "  </thead>\n",
       "  <tbody>\n",
       "    <tr>\n",
       "      <th>0</th>\n",
       "      <td>1</td>\n",
       "      <td>0</td>\n",
       "      <td>0</td>\n",
       "      <td>0</td>\n",
       "      <td>0</td>\n",
       "      <td>1</td>\n",
       "      <td>0</td>\n",
       "      <td>0</td>\n",
       "    </tr>\n",
       "    <tr>\n",
       "      <th>1</th>\n",
       "      <td>1</td>\n",
       "      <td>0</td>\n",
       "      <td>0</td>\n",
       "      <td>0</td>\n",
       "      <td>0</td>\n",
       "      <td>1</td>\n",
       "      <td>0</td>\n",
       "      <td>0</td>\n",
       "    </tr>\n",
       "    <tr>\n",
       "      <th>2</th>\n",
       "      <td>0</td>\n",
       "      <td>0</td>\n",
       "      <td>1</td>\n",
       "      <td>0</td>\n",
       "      <td>0</td>\n",
       "      <td>0</td>\n",
       "      <td>1</td>\n",
       "      <td>0</td>\n",
       "    </tr>\n",
       "    <tr>\n",
       "      <th>3</th>\n",
       "      <td>0</td>\n",
       "      <td>0</td>\n",
       "      <td>1</td>\n",
       "      <td>0</td>\n",
       "      <td>0</td>\n",
       "      <td>0</td>\n",
       "      <td>1</td>\n",
       "      <td>0</td>\n",
       "    </tr>\n",
       "    <tr>\n",
       "      <th>4</th>\n",
       "      <td>0</td>\n",
       "      <td>1</td>\n",
       "      <td>0</td>\n",
       "      <td>0</td>\n",
       "      <td>1</td>\n",
       "      <td>0</td>\n",
       "      <td>0</td>\n",
       "      <td>0</td>\n",
       "    </tr>\n",
       "  </tbody>\n",
       "</table>\n",
       "</div>"
      ],
      "text/plain": [
       "   clf_2.0  clf_3.0  clf_5.0  clf_6.0  clf_2.0  clf_3.0  clf_5.0  clf_6.0\n",
       "0        1        0        0        0        0        1        0        0\n",
       "1        1        0        0        0        0        1        0        0\n",
       "2        0        0        1        0        0        0        1        0\n",
       "3        0        0        1        0        0        0        1        0\n",
       "4        0        1        0        0        1        0        0        0"
      ]
     },
     "execution_count": 77,
     "metadata": {},
     "output_type": "execute_result"
    }
   ],
   "source": [
    "new_feature = pd.get_dummies(new_feature, prefix='clf', columns=new_feature.columns)  \n",
    "new_feature.head()"
   ]
  },
  {
   "cell_type": "markdown",
   "metadata": {},
   "source": [
    "### 3.3.4 构建LR模型并评估训练集准确率"
   ]
  },
  {
   "cell_type": "code",
   "execution_count": 78,
   "metadata": {},
   "outputs": [
    {
     "data": {
      "text/plain": [
       "((4930, 19), (4930, 8))"
      ]
     },
     "execution_count": 78,
     "metadata": {},
     "output_type": "execute_result"
    }
   ],
   "source": [
    "X_train.shape, new_feature.shape"
   ]
  },
  {
   "cell_type": "code",
   "execution_count": 173,
   "metadata": {},
   "outputs": [
    {
     "data": {
      "text/plain": [
       "LogisticRegression(C=1.0, class_weight=None, dual=False, fit_intercept=True,\n",
       "                   intercept_scaling=1, l1_ratio=None, max_iter=100,\n",
       "                   multi_class='warn', n_jobs=None, penalty='l2',\n",
       "                   random_state=None, solver='liblinear', tol=0.0001, verbose=0,\n",
       "                   warm_start=False)"
      ]
     },
     "execution_count": 173,
     "metadata": {},
     "output_type": "execute_result"
    }
   ],
   "source": [
    "X_train = pd.concat([X_train.reset_index(drop=True), new_feature],axis=1)#增加特征\n",
    "\n",
    "model = LogisticRegression(solver='liblinear')\n",
    "model.fit(X_train,y_train)"
   ]
  },
  {
   "cell_type": "code",
   "execution_count": 121,
   "metadata": {},
   "outputs": [
    {
     "data": {
      "text/plain": [
       "0.8058823529411765"
      ]
     },
     "execution_count": 121,
     "metadata": {},
     "output_type": "execute_result"
    }
   ],
   "source": [
    "accuracy_score(y_train,model.predict(X_train))"
   ]
  },
  {
   "cell_type": "markdown",
   "metadata": {},
   "source": [
    "### 3.3.5 对测试集准确率进行评估"
   ]
  },
  {
   "cell_type": "code",
   "execution_count": 122,
   "metadata": {},
   "outputs": [],
   "source": [
    "new_feature = pd.DataFrame(gbdt.apply(X_test).reshape(-1,2),columns=['treel','tree2'])\n",
    "new_feature = pd.get_dummies(new_feature,prefix='clf',columns=new_feature.columns)\n",
    "X_test = pd.concat([X_test.reset_index(drop=True),new_feature],axis=1)"
   ]
  },
  {
   "cell_type": "code",
   "execution_count": 123,
   "metadata": {},
   "outputs": [
    {
     "data": {
      "text/plain": [
       "0.8026502602934217"
      ]
     },
     "execution_count": 123,
     "metadata": {},
     "output_type": "execute_result"
    }
   ],
   "source": [
    "accuracy_score(y_test,model.predict(X_test))"
   ]
  },
  {
   "cell_type": "markdown",
   "metadata": {},
   "source": [
    "# 4 总结"
   ]
  },
  {
   "cell_type": "markdown",
   "metadata": {},
   "source": [
    "点击率预估（CTR）首先被运用到广告推荐上，它计算用户点击广告的可能性；而在推荐系统中，推荐商品也被预测用户的兴趣度。而点击率预估最经典的算法是梯度提升树（GBDT）和逻辑回归（LR）的融合。采用某公司电信客户流失数据进行客户流失预测，通过数据清洗，数据建模，利用GBDT训练数据集形成新特征导入LR模型，最终结果显示，准确率为80.58%，可以说明效果并不理想，需要进一步调节参数。客户流失对于公司运营是一个重要隐患，需要采取策略维持客户和挽回流失客户。识别有流失风险的客户可以帮助公司改进客户满意度，通过相关体验和专业服务，以采取积极主动的方法来避免未来的客户流失。"
   ]
  }
 ],
 "metadata": {
  "kernelspec": {
   "display_name": "Python 3",
   "language": "python",
   "name": "python3"
  },
  "language_info": {
   "codemirror_mode": {
    "name": "ipython",
    "version": 3
   },
   "file_extension": ".py",
   "mimetype": "text/x-python",
   "name": "python",
   "nbconvert_exporter": "python",
   "pygments_lexer": "ipython3",
   "version": "3.7.3"
  }
 },
 "nbformat": 4,
 "nbformat_minor": 4
}
