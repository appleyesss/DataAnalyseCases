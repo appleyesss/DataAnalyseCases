{
 "cells": [
  {
   "cell_type": "markdown",
   "id": "4b070f63",
   "metadata": {},
   "source": [
    "# 预测用户在不同品类的产品购买力"
   ]
  },
  {
   "cell_type": "markdown",
   "id": "3a4c3c44",
   "metadata": {},
   "source": [
    "## 一.建模背景"
   ]
  },
  {
   "cell_type": "markdown",
   "id": "37a69466",
   "metadata": {},
   "source": [
    "## 1.1 建模场景应用"
   ]
  },
  {
   "cell_type": "markdown",
   "id": "9d489931",
   "metadata": {},
   "source": [
    "在电商中，用户对于不同品类的各个产品有自己的偏好，直观来说就是对哪种产品的购买量最多。对于电商平台来说，了解用户在不同品类的产品购买力有助于为其客户创建个性化的产品，因此需要对用户在不同品类的各个产品的购买行为进行预测。\n",
    "\n",
    "某零售公司想要了解顾客在不同类别的产品中的购买量，通过对上个月的产品对应的客户购买信息进行建模分析，来预测客户对各种产品的购买量，帮助公司为不同客户创建个性化的产品。"
   ]
  },
  {
   "cell_type": "markdown",
   "id": "236fafa5",
   "metadata": {},
   "source": [
    "## 1.2 数据集说明"
   ]
  },
  {
   "cell_type": "markdown",
   "id": "576813e1",
   "metadata": {},
   "source": [
    "数据来源：https://datahack.analyticsvidhya.com/contest/black-friday/\n",
    "\n",
    "该数据集包括客户人口统计信息，产品详细信息包括购买量总数。\n",
    "\n",
    "特征|说明\n",
    "-|-\n",
    "客户信息\n",
    "age|年龄\n",
    "gender|性别\n",
    "marital_status|婚姻状况\n",
    "city_type|城市\n",
    "stay_in_current_city|常居地年限\n",
    "产品详细信息\n",
    "product_id    |产品编号\n",
    "product category|产品种类\n",
    "purchase_amount |购买总数"
   ]
  },
  {
   "cell_type": "markdown",
   "id": "da860044",
   "metadata": {},
   "source": [
    "## 1.3 建模环境"
   ]
  },
  {
   "cell_type": "markdown",
   "id": "d1969ba7",
   "metadata": {},
   "source": [
    "pyspark 回归算法\n",
    "\n",
    "numpy"
   ]
  },
  {
   "cell_type": "markdown",
   "id": "602c6fe7",
   "metadata": {},
   "source": [
    "# 二.数据处理"
   ]
  },
  {
   "cell_type": "markdown",
   "id": "b4cceda3",
   "metadata": {},
   "source": [
    "## 2.1 导入数据"
   ]
  },
  {
   "cell_type": "markdown",
   "id": "0498848f",
   "metadata": {},
   "source": [
    "使用PySpark的读数据接口read.csv读取数据"
   ]
  },
  {
   "cell_type": "code",
   "execution_count": 1,
   "id": "36b02b09",
   "metadata": {},
   "outputs": [],
   "source": [
    "from pyspark.sql import SparkSession "
   ]
  },
  {
   "cell_type": "code",
   "execution_count": 2,
   "id": "a0e02390",
   "metadata": {},
   "outputs": [],
   "source": [
    "spark = SparkSession \\\n",
    "    .builder \\\n",
    "    .appName(\"test\") \\\n",
    "    .config(\"spark.some.config.option\", \"setting\") \\\n",
    "    .getOrCreate()"
   ]
  },
  {
   "cell_type": "code",
   "execution_count": 5,
   "id": "5364b574",
   "metadata": {},
   "outputs": [],
   "source": [
    "train = spark.read.csv('./train.csv', header=True, inferSchema=True)\n",
    "test = spark.read.csv('./test.csv', header=True, inferSchema=True)"
   ]
  },
  {
   "cell_type": "markdown",
   "id": "52681a5f",
   "metadata": {},
   "source": [
    "查看数据类型，使用**printSchema()**方法。在train上应用printSchema()，它将以树格式打印模式。"
   ]
  },
  {
   "cell_type": "code",
   "execution_count": 6,
   "id": "370dacab",
   "metadata": {},
   "outputs": [
    {
     "name": "stdout",
     "output_type": "stream",
     "text": [
      "root\n",
      " |-- User_ID: integer (nullable = true)\n",
      " |-- Product_ID: string (nullable = true)\n",
      " |-- Gender: string (nullable = true)\n",
      " |-- Age: string (nullable = true)\n",
      " |-- Occupation: integer (nullable = true)\n",
      " |-- City_Category: string (nullable = true)\n",
      " |-- Stay_In_Current_City_Years: string (nullable = true)\n",
      " |-- Marital_Status: integer (nullable = true)\n",
      " |-- Product_Category_1: integer (nullable = true)\n",
      " |-- Product_Category_2: integer (nullable = true)\n",
      " |-- Product_Category_3: integer (nullable = true)\n",
      " |-- Purchase: integer (nullable = true)\n",
      "\n"
     ]
    }
   ],
   "source": [
    "train.printSchema()"
   ]
  },
  {
   "cell_type": "markdown",
   "id": "8532a22d",
   "metadata": {},
   "source": [
    "预览数据集"
   ]
  },
  {
   "cell_type": "code",
   "execution_count": 7,
   "id": "cc133fa5",
   "metadata": {},
   "outputs": [
    {
     "data": {
      "text/plain": [
       "[Row(User_ID=1000001, Product_ID='P00069042', Gender='F', Age='0-17', Occupation=10, City_Category='A', Stay_In_Current_City_Years='2', Marital_Status=0, Product_Category_1=3, Product_Category_2=None, Product_Category_3=None, Purchase=8370),\n",
       " Row(User_ID=1000001, Product_ID='P00248942', Gender='F', Age='0-17', Occupation=10, City_Category='A', Stay_In_Current_City_Years='2', Marital_Status=0, Product_Category_1=1, Product_Category_2=6, Product_Category_3=14, Purchase=15200),\n",
       " Row(User_ID=1000001, Product_ID='P00087842', Gender='F', Age='0-17', Occupation=10, City_Category='A', Stay_In_Current_City_Years='2', Marital_Status=0, Product_Category_1=12, Product_Category_2=None, Product_Category_3=None, Purchase=1422),\n",
       " Row(User_ID=1000001, Product_ID='P00085442', Gender='F', Age='0-17', Occupation=10, City_Category='A', Stay_In_Current_City_Years='2', Marital_Status=0, Product_Category_1=12, Product_Category_2=14, Product_Category_3=None, Purchase=1057),\n",
       " Row(User_ID=1000002, Product_ID='P00285442', Gender='M', Age='55+', Occupation=16, City_Category='C', Stay_In_Current_City_Years='4+', Marital_Status=0, Product_Category_1=8, Product_Category_2=None, Product_Category_3=None, Purchase=7969)]"
      ]
     },
     "execution_count": 7,
     "metadata": {},
     "output_type": "execute_result"
    }
   ],
   "source": [
    "train.head(5)"
   ]
  },
  {
   "cell_type": "code",
   "execution_count": 8,
   "id": "07617b5c",
   "metadata": {},
   "outputs": [
    {
     "data": {
      "text/plain": [
       "550068"
      ]
     },
     "execution_count": 8,
     "metadata": {},
     "output_type": "execute_result"
    }
   ],
   "source": [
    "train.count()"
   ]
  },
  {
   "cell_type": "markdown",
   "id": "636a645c",
   "metadata": {},
   "source": [
    "## 2.2 数据处理"
   ]
  },
  {
   "cell_type": "markdown",
   "id": "b385ea2f",
   "metadata": {},
   "source": [
    "### 2.2.1 插补缺失值"
   ]
  },
  {
   "cell_type": "markdown",
   "id": "6800dc4a",
   "metadata": {},
   "source": [
    "通过调用**drop()**，可以检查train上非空数值的个数，并进行测试。默认情况下，drop()方法将删除包含任何空值的行。还可以通过设置参数“all”,当且仅当该行所有参数都为null时以删除该行。"
   ]
  },
  {
   "cell_type": "code",
   "execution_count": 9,
   "id": "c6088b05",
   "metadata": {},
   "outputs": [
    {
     "data": {
      "text/plain": [
       "(166821, 71037)"
      ]
     },
     "execution_count": 9,
     "metadata": {},
     "output_type": "execute_result"
    }
   ],
   "source": [
    "train.na.drop('any').count(),test.na.drop('any').count()"
   ]
  },
  {
   "cell_type": "markdown",
   "id": "3c0a7d5a",
   "metadata": {},
   "source": [
    "使用-1来填充train和test的null值"
   ]
  },
  {
   "cell_type": "code",
   "execution_count": 10,
   "id": "9a6211b7",
   "metadata": {},
   "outputs": [],
   "source": [
    "train = train.fillna(-1)\n",
    "test = test.fillna(-1)"
   ]
  },
  {
   "cell_type": "markdown",
   "id": "70640d1f",
   "metadata": {},
   "source": [
    "### 2.2.2 分析数值特征"
   ]
  },
  {
   "cell_type": "markdown",
   "id": "9f5d2216",
   "metadata": {},
   "source": [
    "使用**describe()**方法查看Dataframe列的各种汇总统计信息，它显示了数字变量的统计信息；调用**show()**方法显示结果。"
   ]
  },
  {
   "cell_type": "code",
   "execution_count": 11,
   "id": "23ce8a1c",
   "metadata": {},
   "outputs": [
    {
     "name": "stdout",
     "output_type": "stream",
     "text": [
      "+-------+------------------+----------+------+------+-----------------+-------------+--------------------------+-------------------+------------------+------------------+------------------+-----------------+\n",
      "|summary|           User_ID|Product_ID|Gender|   Age|       Occupation|City_Category|Stay_In_Current_City_Years|     Marital_Status|Product_Category_1|Product_Category_2|Product_Category_3|         Purchase|\n",
      "+-------+------------------+----------+------+------+-----------------+-------------+--------------------------+-------------------+------------------+------------------+------------------+-----------------+\n",
      "|  count|            550068|    550068|550068|550068|           550068|       550068|                    550068|             550068|            550068|            550068|            550068|           550068|\n",
      "|   mean|1003028.8424013031|      null|  null|  null|8.076706879876669|         null|         1.468494139793958|0.40965298835780306| 5.404270017525106| 6.419769919355425| 3.145214773446192|9263.968712959126|\n",
      "| stddev|1727.5915855312976|      null|  null|  null|6.522660487341822|         null|        0.9890866807573172|0.49177012631733175| 3.936211369201386| 6.565109781181339| 6.681038828257756|5023.065393820575|\n",
      "|    min|           1000001| P00000142|     F|  0-17|                0|            A|                         0|                  0|                 1|                -1|                -1|               12|\n",
      "|    max|           1006040|  P0099942|     M|   55+|               20|            C|                        4+|                  1|                20|                18|                18|            23961|\n",
      "+-------+------------------+----------+------+------+-----------------+-------------+--------------------------+-------------------+------------------+------------------+------------------+-----------------+\n",
      "\n"
     ]
    }
   ],
   "source": [
    "train.describe().show()"
   ]
  },
  {
   "cell_type": "markdown",
   "id": "2a7cd325",
   "metadata": {},
   "source": [
    "调用**select()**并传递想要选择的列名。select()将显示所选列的结果。还可以通过提供用逗号分隔的列名，从数据框架中选择多个列。"
   ]
  },
  {
   "cell_type": "code",
   "execution_count": 12,
   "id": "1ad0e8e5",
   "metadata": {},
   "outputs": [
    {
     "name": "stdout",
     "output_type": "stream",
     "text": [
      "+-------+----+\n",
      "|User_ID| Age|\n",
      "+-------+----+\n",
      "|1000001|0-17|\n",
      "|1000001|0-17|\n",
      "|1000001|0-17|\n",
      "|1000001|0-17|\n",
      "|1000002| 55+|\n",
      "+-------+----+\n",
      "only showing top 5 rows\n",
      "\n"
     ]
    }
   ],
   "source": [
    "train.select('User_ID', 'Age').show(5)"
   ]
  },
  {
   "cell_type": "markdown",
   "id": "f4e0a59b",
   "metadata": {},
   "source": [
    "### 2.2.3 分析分类特征"
   ]
  },
  {
   "cell_type": "markdown",
   "id": "4095eed1",
   "metadata": {},
   "source": [
    "为了建立一个模型，需要查看“train”和“test”分类特征的分布。调用**distinct()** 查看不同值。"
   ]
  },
  {
   "cell_type": "code",
   "execution_count": 13,
   "id": "8c3d0eda",
   "metadata": {},
   "outputs": [
    {
     "data": {
      "text/plain": [
       "(3631, 3491)"
      ]
     },
     "execution_count": 13,
     "metadata": {},
     "output_type": "execute_result"
    }
   ],
   "source": [
    "train.select('Product_ID').distinct().count(), test.select('Product_ID').distinct().count()#train,test中Product_ID不同类别的数量"
   ]
  },
  {
   "cell_type": "code",
   "execution_count": 14,
   "id": "4508f45e",
   "metadata": {},
   "outputs": [
    {
     "data": {
      "text/plain": [
       "46"
      ]
     },
     "execution_count": 14,
     "metadata": {},
     "output_type": "execute_result"
    }
   ],
   "source": [
    "diff_cat_in_train_test = test.select('Product_ID').subtract(train.select('Product_ID'))#test和train中Product_ID不同的类别\n",
    "\n",
    "diff_cat_in_train_test.distinct().count()#在test中而不在train中的类别"
   ]
  },
  {
   "cell_type": "code",
   "execution_count": 15,
   "id": "69d66a6e",
   "metadata": {},
   "outputs": [
    {
     "name": "stdout",
     "output_type": "stream",
     "text": [
      "+----------+\n",
      "|Product_ID|\n",
      "+----------+\n",
      "| P00322642|\n",
      "| P00300142|\n",
      "| P00077642|\n",
      "| P00249942|\n",
      "| P00294942|\n",
      "+----------+\n",
      "only showing top 5 rows\n",
      "\n"
     ]
    }
   ],
   "source": [
    "diff_cat_in_train_test.distinct().show(5)"
   ]
  },
  {
   "cell_type": "markdown",
   "id": "5be5d43a",
   "metadata": {},
   "source": [
    "### 2.2.4 将分类特征转换为标签"
   ]
  },
  {
   "cell_type": "markdown",
   "id": "74d8c51f",
   "metadata": {},
   "source": [
    "**StringIndexer()** 将分类列转换为标签"
   ]
  },
  {
   "cell_type": "code",
   "execution_count": 16,
   "id": "e67474f0",
   "metadata": {},
   "outputs": [],
   "source": [
    "from pyspark.ml.feature import StringIndexer\n",
    "plan_indexer = StringIndexer(inputCol = 'Product_ID', outputCol = 'product_id_trans' )#该转换将标签的Product_ID列 编码为 标签索引的列\n",
    "labeller = plan_indexer.fit(train)#fit()应用于train中，构建标签"
   ]
  },
  {
   "cell_type": "markdown",
   "id": "6534dc62",
   "metadata": {},
   "source": [
    "运用labeller，调用**transform()** 转换train和test的Dataframe。将转换结果存储在Train1和Test1中"
   ]
  },
  {
   "cell_type": "code",
   "execution_count": 17,
   "id": "7fa2417c",
   "metadata": {},
   "outputs": [
    {
     "name": "stdout",
     "output_type": "stream",
     "text": [
      "+-------+----------+------+----+----------+-------------+--------------------------+--------------+------------------+------------------+------------------+--------+----------------+\n",
      "|User_ID|Product_ID|Gender| Age|Occupation|City_Category|Stay_In_Current_City_Years|Marital_Status|Product_Category_1|Product_Category_2|Product_Category_3|Purchase|product_id_trans|\n",
      "+-------+----------+------+----+----------+-------------+--------------------------+--------------+------------------+------------------+------------------+--------+----------------+\n",
      "|1000001| P00069042|     F|0-17|        10|            A|                         2|             0|                 3|                -1|                -1|    8370|           765.0|\n",
      "|1000001| P00248942|     F|0-17|        10|            A|                         2|             0|                 1|                 6|                14|   15200|           183.0|\n",
      "+-------+----------+------+----+----------+-------------+--------------------------+--------------+------------------+------------------+------------------+--------+----------------+\n",
      "only showing top 2 rows\n",
      "\n"
     ]
    }
   ],
   "source": [
    "Train1 = labeller.transform(train)\n",
    "Test1 = labeller.transform(test)\n",
    "Train1.show(2)"
   ]
  },
  {
   "cell_type": "code",
   "execution_count": 18,
   "id": "423e1152",
   "metadata": {},
   "outputs": [
    {
     "name": "stdout",
     "output_type": "stream",
     "text": [
      "+----------------+\n",
      "|product_id_trans|\n",
      "+----------------+\n",
      "|           765.0|\n",
      "|           183.0|\n",
      "+----------------+\n",
      "only showing top 2 rows\n",
      "\n"
     ]
    }
   ],
   "source": [
    "Train1.select('product_id_trans').show(2)"
   ]
  },
  {
   "cell_type": "markdown",
   "id": "86bd4b29",
   "metadata": {},
   "source": [
    "# 三. 特征生成"
   ]
  },
  {
   "cell_type": "code",
   "execution_count": 19,
   "id": "ba653c93",
   "metadata": {},
   "outputs": [],
   "source": [
    "from pyspark.ml.feature import RFormula\n",
    "formula = RFormula(formula=\"Purchase ~ Age+ Occupation +City_Category+Stay_In_Current_City_Years+Product_Category_1+Product_Category_2+ Gender\",\n",
    "                  featuresCol=\"features\",labelCol=\"label\")\n",
    "#指定依赖列和独立列\n",
    "#必须为features列和label列指定名称"
   ]
  },
  {
   "cell_type": "code",
   "execution_count": 20,
   "id": "7f53b811",
   "metadata": {},
   "outputs": [
    {
     "name": "stdout",
     "output_type": "stream",
     "text": [
      "+-------+----------+------+----+----------+-------------+--------------------------+--------------+------------------+------------------+------------------+--------+----------------+--------------------+-------+\n",
      "|User_ID|Product_ID|Gender| Age|Occupation|City_Category|Stay_In_Current_City_Years|Marital_Status|Product_Category_1|Product_Category_2|Product_Category_3|Purchase|product_id_trans|            features|  label|\n",
      "+-------+----------+------+----+----------+-------------+--------------------------+--------------+------------------+------------------+------------------+--------+----------------+--------------------+-------+\n",
      "|1000001| P00069042|     F|0-17|        10|            A|                         2|             0|                 3|                -1|                -1|    8370|           765.0|(16,[6,10,13,14],...| 8370.0|\n",
      "|1000001| P00248942|     F|0-17|        10|            A|                         2|             0|                 1|                 6|                14|   15200|           183.0|(16,[6,10,13,14],...|15200.0|\n",
      "+-------+----------+------+----+----------+-------------+--------------------------+--------------+------------------+------------------+------------------+--------+----------------+--------------------+-------+\n",
      "only showing top 2 rows\n",
      "\n"
     ]
    }
   ],
   "source": [
    "t1 = formula.fit(Train1)#应用\n",
    "train1 = t1.transform(Train1)#转换\n",
    "test1 = t1.transform(Test1)\n",
    "train1.show(2)"
   ]
  },
  {
   "cell_type": "markdown",
   "id": "d3ab2451",
   "metadata": {},
   "source": [
    "可以看到train1和test1有两个额外的列，称为features和label，并对在公式formula中指定的列进行标记(featuresCol= features和labelCol= label)。\n",
    "train1和test1中的features列中的所有分类变量都被转换为数值，可以查看train1和test1中的列特性和标签。"
   ]
  },
  {
   "cell_type": "code",
   "execution_count": 21,
   "id": "6b922740",
   "metadata": {},
   "outputs": [
    {
     "name": "stdout",
     "output_type": "stream",
     "text": [
      "+--------------------+\n",
      "|            features|\n",
      "+--------------------+\n",
      "|(16,[6,10,13,14],...|\n",
      "|(16,[6,10,13,14],...|\n",
      "+--------------------+\n",
      "only showing top 2 rows\n",
      "\n"
     ]
    }
   ],
   "source": [
    "train1.select('features').show(2)"
   ]
  },
  {
   "cell_type": "code",
   "execution_count": 22,
   "id": "d6f8266a",
   "metadata": {},
   "outputs": [
    {
     "name": "stdout",
     "output_type": "stream",
     "text": [
      "+-------+\n",
      "|  label|\n",
      "+-------+\n",
      "| 8370.0|\n",
      "|15200.0|\n",
      "+-------+\n",
      "only showing top 2 rows\n",
      "\n"
     ]
    }
   ],
   "source": [
    "train1.select('label').show(2)"
   ]
  },
  {
   "cell_type": "markdown",
   "id": "dc18f761",
   "metadata": {},
   "source": [
    "# 四. 进行建模"
   ]
  },
  {
   "cell_type": "markdown",
   "id": "93cfbb15",
   "metadata": {},
   "source": [
    "在应用RFormula和转换Dataframe之后，根据这些数据开发机器学习模型。\n",
    "以下应用随机森林回归，导入一个在pyspark.ml中定义的随机森林回归器。然后建立一个叫做rf的模型。将使用随机森林算法的默认参数。"
   ]
  },
  {
   "cell_type": "code",
   "execution_count": 23,
   "id": "a5633744",
   "metadata": {},
   "outputs": [],
   "source": [
    "from pyspark.ml.regression import RandomForestRegressor\n",
    "rf = RandomForestRegressor()"
   ]
  },
  {
   "cell_type": "markdown",
   "id": "1e85fef2",
   "metadata": {},
   "source": [
    "将train1数据划分为train_cv和test_cv进行交叉验证"
   ]
  },
  {
   "cell_type": "code",
   "execution_count": 24,
   "id": "89d66191",
   "metadata": {},
   "outputs": [],
   "source": [
    "(train_cv, test_cv) = train1.randomSplit([0.7, 0.3])\n",
    "\n",
    "model1 = rf.fit(train_cv)  #在train_cv上建立模型\n",
    "predictions = model1.transform(test_cv) #在test_cv上进行预测。结果将保存在predictions中"
   ]
  },
  {
   "cell_type": "markdown",
   "id": "2856d1e1",
   "metadata": {},
   "source": [
    "# 五. 评估模型"
   ]
  },
  {
   "cell_type": "markdown",
   "id": "acba25df",
   "metadata": {},
   "source": [
    "评估对test_cv的预测，看看rmse和mse是多少"
   ]
  },
  {
   "cell_type": "code",
   "execution_count": 25,
   "id": "c570efae",
   "metadata": {},
   "outputs": [
    {
     "data": {
      "text/plain": [
       "(3781.6711152346434, 14301036.42380003)"
      ]
     },
     "execution_count": 25,
     "metadata": {},
     "output_type": "execute_result"
    }
   ],
   "source": [
    "from pyspark.ml.evaluation import RegressionEvaluator\n",
    "evaluator = RegressionEvaluator() #创建对象 对模型求值\n",
    "mse = evaluator.evaluate(predictions,{evaluator.metricName:\"mse\"})# 指定度量标准\n",
    "import numpy as np\n",
    "np.sqrt(mse),mse #rmse mse"
   ]
  },
  {
   "cell_type": "code",
   "execution_count": 26,
   "id": "6a32807b",
   "metadata": {},
   "outputs": [],
   "source": [
    "model = rf.fit(train1) # 在所有的train1数据集上再次训练这个模型\n",
    "predictions1 = model.transform(test1)"
   ]
  },
  {
   "cell_type": "code",
   "execution_count": 27,
   "id": "0bf8b57d",
   "metadata": {},
   "outputs": [],
   "source": [
    "df = predictions1.selectExpr(\"User_ID as User_ID\", \"Product_ID as Product_ID\", 'prediction as Purchase') # 测试集预测结果 保存\n",
    "df.toPandas().to_csv('./submission.csv')"
   ]
  }
 ],
 "metadata": {
  "kernelspec": {
   "display_name": "Python 3",
   "language": "python",
   "name": "python3"
  },
  "language_info": {
   "codemirror_mode": {
    "name": "ipython",
    "version": 3
   },
   "file_extension": ".py",
   "mimetype": "text/x-python",
   "name": "python",
   "nbconvert_exporter": "python",
   "pygments_lexer": "ipython3",
   "version": "3.9.4"
  }
 },
 "nbformat": 4,
 "nbformat_minor": 5
}
