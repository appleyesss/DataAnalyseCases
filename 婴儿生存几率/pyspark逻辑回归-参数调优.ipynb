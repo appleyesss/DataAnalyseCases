{
 "cells": [
  {
   "cell_type": "markdown",
   "id": "67204ac4",
   "metadata": {},
   "source": [
    "# 读取数据"
   ]
  },
  {
   "cell_type": "code",
   "execution_count": 1,
   "id": "14d20743",
   "metadata": {},
   "outputs": [],
   "source": [
    "from pyspark.sql.session import SparkSession\n",
    "from pyspark import SparkContext\n",
    "import pyspark.sql.types as typ\n",
    "\n",
    "sc = SparkContext.getOrCreate()\n",
    "spark = SparkSession(sc)"
   ]
  },
  {
   "cell_type": "code",
   "execution_count": 2,
   "id": "999f326b",
   "metadata": {},
   "outputs": [],
   "source": [
    "births = spark.read.csv('./births_transformed.csv', header=True, inferSchema=True)"
   ]
  },
  {
   "cell_type": "code",
   "execution_count": 3,
   "id": "5388b864",
   "metadata": {},
   "outputs": [
    {
     "name": "stdout",
     "output_type": "stream",
     "text": [
      "root\n",
      " |-- INFANT_ALIVE_AT_REPORT: integer (nullable = true)\n",
      " |-- BIRTH_PLACE: integer (nullable = true)\n",
      " |-- MOTHER_AGE_YEARS: integer (nullable = true)\n",
      " |-- FATHER_COMBINED_AGE: integer (nullable = true)\n",
      " |-- CIG_BEFORE: integer (nullable = true)\n",
      " |-- CIG_1_TRI: integer (nullable = true)\n",
      " |-- CIG_2_TRI: integer (nullable = true)\n",
      " |-- CIG_3_TRI: integer (nullable = true)\n",
      " |-- MOTHER_HEIGHT_IN: integer (nullable = true)\n",
      " |-- MOTHER_PRE_WEIGHT: integer (nullable = true)\n",
      " |-- MOTHER_DELIVERY_WEIGHT: integer (nullable = true)\n",
      " |-- MOTHER_WEIGHT_GAIN: integer (nullable = true)\n",
      " |-- DIABETES_PRE: integer (nullable = true)\n",
      " |-- DIABETES_GEST: integer (nullable = true)\n",
      " |-- HYP_TENS_PRE: integer (nullable = true)\n",
      " |-- HYP_TENS_GEST: integer (nullable = true)\n",
      " |-- PREV_BIRTH_PRETERM: integer (nullable = true)\n",
      "\n"
     ]
    }
   ],
   "source": [
    "births.printSchema() #原始"
   ]
  },
  {
   "cell_type": "markdown",
   "id": "7a4e14bb",
   "metadata": {},
   "source": [
    "# 创建转换器"
   ]
  },
  {
   "cell_type": "code",
   "execution_count": 4,
   "id": "40d2892b",
   "metadata": {},
   "outputs": [],
   "source": [
    "import pyspark.ml.feature as ft"
   ]
  },
  {
   "cell_type": "markdown",
   "id": "7310e8f6",
   "metadata": {},
   "source": [
    "由于统计模型只能计算数值数据，所以需要对BIRTH_PLACE进行独热编码进行转换"
   ]
  },
  {
   "cell_type": "code",
   "execution_count": 5,
   "id": "50177bd9",
   "metadata": {},
   "outputs": [],
   "source": [
    "encoder = ft.OneHotEncoder(inputCol='BIRTH_PLACE', outputCol='BIRTH_PLACE_VEC')"
   ]
  },
  {
   "cell_type": "markdown",
   "id": "71e4e5be",
   "metadata": {},
   "source": [
    "指定数据类型的方式创建离散特征"
   ]
  },
  {
   "cell_type": "code",
   "execution_count": 6,
   "id": "0c7fa364",
   "metadata": {},
   "outputs": [],
   "source": [
    "labels = [\n",
    "    ('INFANT_ALIVE_AT_REPORT', typ.IntegerType()),\n",
    "    ('BIRTH_PLACE', typ.StringType()),\n",
    "    ('MOTHER_AGE_YEARS', typ.IntegerType()),\n",
    "    ('FATHER_COMBINED_AGE', typ.IntegerType()),\n",
    "    ('CIG_BEFORE', typ.IntegerType()),\n",
    "    ('CIG_1_TRI', typ.IntegerType()),\n",
    "    ('CIG_2_TRI', typ.IntegerType()),\n",
    "    ('CIG_3_TRI', typ.IntegerType()),\n",
    "    ('MOTHER_HEIGHT_IN', typ.IntegerType()),\n",
    "    ('MOTHER_PRE_WEIGHT', typ.IntegerType()),\n",
    "    ('MOTHER_DELIVERY_WEIGHT', typ.IntegerType()),\n",
    "    ('MOTHER_WEIGHT_GAIN', typ.IntegerType()),\n",
    "    ('DIABETES_PRE', typ.IntegerType()),\n",
    "    ('DIABETES_GEST', typ.IntegerType()),\n",
    "    ('HYP_TENS_PRE', typ.IntegerType()),\n",
    "    ('HYP_TENS_GEST', typ.IntegerType()),\n",
    "    ('PREV_BIRTH_PRETERM', typ.IntegerType())\n",
    "]\n"
   ]
  },
  {
   "cell_type": "markdown",
   "id": "e1471cdc",
   "metadata": {},
   "source": [
    "整合特征"
   ]
  },
  {
   "cell_type": "code",
   "execution_count": 7,
   "id": "7131a52a",
   "metadata": {},
   "outputs": [],
   "source": [
    "featuresCreator = ft.VectorAssembler(   #VectorAssembler() 的inputCols 参数为一个列表，包含所有的特征，组成一个outputCol，名称是特定为‘features’\n",
    "    inputCols=[col[0] for col in labels[2:]] + [encoder.getOutputCol()],  #独热编码对象的输出 调用了getOutputCol()方法——忽略输出列名称改变的影响\n",
    "    outputCol='features'\n",
    ")"
   ]
  },
  {
   "cell_type": "markdown",
   "id": "3c312939",
   "metadata": {},
   "source": [
    "# 创建评估器"
   ]
  },
  {
   "cell_type": "code",
   "execution_count": 8,
   "id": "8a60d568",
   "metadata": {},
   "outputs": [],
   "source": [
    "import pyspark.ml.classification as cl"
   ]
  },
  {
   "cell_type": "markdown",
   "id": "0c1b1471",
   "metadata": {},
   "source": [
    "创建逻辑回归评估器"
   ]
  },
  {
   "cell_type": "code",
   "execution_count": 9,
   "id": "3cd6b63d",
   "metadata": {},
   "outputs": [],
   "source": [
    "logistic = cl.LogisticRegression(maxIter=10, regParam=0.01, labelCol='INFANT_ALIVE_AT_REPORT')"
   ]
  },
  {
   "cell_type": "markdown",
   "id": "5e5d34eb",
   "metadata": {},
   "source": [
    "如果目标列名称为‘label’，则不必指定labelCol；\n",
    "\n",
    "如果featuresCreator 输出名称不是 ‘features’， 则需要通过featuresCreator 对象调用getOutputCol() 指定featuresCol\n"
   ]
  },
  {
   "cell_type": "markdown",
   "id": "2583d414",
   "metadata": {},
   "source": [
    "# 创建管道"
   ]
  },
  {
   "cell_type": "code",
   "execution_count": 10,
   "id": "e8c110fc",
   "metadata": {},
   "outputs": [],
   "source": [
    "from pyspark.ml import Pipeline\n",
    "\n",
    "pipeline =  Pipeline(stages=[encoder, featuresCreator, logistic])\n"
   ]
  },
  {
   "cell_type": "markdown",
   "id": "d9c06269",
   "metadata": {},
   "source": [
    "# 拟合模型"
   ]
  },
  {
   "cell_type": "markdown",
   "id": "80a28569",
   "metadata": {},
   "source": [
    "划分数据集"
   ]
  },
  {
   "cell_type": "code",
   "execution_count": 11,
   "id": "6aa63b8d",
   "metadata": {},
   "outputs": [],
   "source": [
    "births_train, births_test = births.randomSplit([0.7, 0.3], seed=666)"
   ]
  },
  {
   "cell_type": "markdown",
   "id": "6c4ac912",
   "metadata": {},
   "source": [
    "训练模型\n",
    "\n",
    "测试数据"
   ]
  },
  {
   "cell_type": "code",
   "execution_count": 12,
   "id": "03c1794e",
   "metadata": {},
   "outputs": [
    {
     "data": {
      "text/plain": [
       "[Row(INFANT_ALIVE_AT_REPORT=0, BIRTH_PLACE=1, MOTHER_AGE_YEARS=14, FATHER_COMBINED_AGE=16, CIG_BEFORE=0, CIG_1_TRI=0, CIG_2_TRI=0, CIG_3_TRI=0, MOTHER_HEIGHT_IN=63, MOTHER_PRE_WEIGHT=180, MOTHER_DELIVERY_WEIGHT=206, MOTHER_WEIGHT_GAIN=26, DIABETES_PRE=0, DIABETES_GEST=0, HYP_TENS_PRE=0, HYP_TENS_GEST=0, PREV_BIRTH_PRETERM=0, BIRTH_PLACE_VEC=SparseVector(9, {1: 1.0}), features=SparseVector(24, {0: 14.0, 1: 16.0, 6: 63.0, 7: 180.0, 8: 206.0, 9: 26.0, 16: 1.0}), rawPrediction=DenseVector([-0.3229, 0.3229]), probability=DenseVector([0.42, 0.58]), prediction=1.0)]"
      ]
     },
     "execution_count": 12,
     "metadata": {},
     "output_type": "execute_result"
    }
   ],
   "source": [
    "model = pipeline.fit(births_train)\n",
    "\n",
    "test_model = model.transform(births_test)\n",
    "test_model.take(1)"
   ]
  },
  {
   "cell_type": "markdown",
   "id": "851c5c07",
   "metadata": {},
   "source": [
    "# 评估模型"
   ]
  },
  {
   "cell_type": "code",
   "execution_count": 13,
   "id": "9165f968",
   "metadata": {},
   "outputs": [],
   "source": [
    "import pyspark.ml.evaluation as ev"
   ]
  },
  {
   "cell_type": "code",
   "execution_count": 14,
   "id": "cafa2021",
   "metadata": {},
   "outputs": [
    {
     "name": "stdout",
     "output_type": "stream",
     "text": [
      "ROC 0.7343101403374708\n",
      "PR 0.7169195458786022\n"
     ]
    }
   ],
   "source": [
    "evaluator = ev.BinaryClassificationEvaluator(rawPredictionCol='probability', labelCol='INFANT_ALIVE_AT_REPORT')\n",
    "\n",
    "print('ROC', evaluator.evaluate(test_model, {evaluator.metricName:'areaUnderROC'}))\n",
    "print('PR', evaluator.evaluate(test_model, {evaluator.metricName:'areaUnderPR'}))"
   ]
  },
  {
   "cell_type": "markdown",
   "id": "e748e03b",
   "metadata": {},
   "source": [
    "# 模型保存"
   ]
  },
  {
   "cell_type": "code",
   "execution_count": 15,
   "id": "0f539159",
   "metadata": {},
   "outputs": [],
   "source": [
    "pipelinePath = './infant_oneHotEncoder_Logistic_Pipeline'\n",
    "pipeline.write().overwrite().save(pipelinePath)"
   ]
  },
  {
   "cell_type": "markdown",
   "id": "d7a0d1af",
   "metadata": {},
   "source": [
    "用加载的管道训练数据"
   ]
  },
  {
   "cell_type": "code",
   "execution_count": 16,
   "id": "94792629",
   "metadata": {},
   "outputs": [
    {
     "data": {
      "text/plain": [
       "[Row(INFANT_ALIVE_AT_REPORT=0, BIRTH_PLACE=1, MOTHER_AGE_YEARS=14, FATHER_COMBINED_AGE=16, CIG_BEFORE=0, CIG_1_TRI=0, CIG_2_TRI=0, CIG_3_TRI=0, MOTHER_HEIGHT_IN=63, MOTHER_PRE_WEIGHT=180, MOTHER_DELIVERY_WEIGHT=206, MOTHER_WEIGHT_GAIN=26, DIABETES_PRE=0, DIABETES_GEST=0, HYP_TENS_PRE=0, HYP_TENS_GEST=0, PREV_BIRTH_PRETERM=0, BIRTH_PLACE_VEC=SparseVector(9, {1: 1.0}), features=SparseVector(24, {0: 14.0, 1: 16.0, 6: 63.0, 7: 180.0, 8: 206.0, 9: 26.0, 16: 1.0}), rawPrediction=DenseVector([-0.3229, 0.3229]), probability=DenseVector([0.42, 0.58]), prediction=1.0)]"
      ]
     },
     "execution_count": 16,
     "metadata": {},
     "output_type": "execute_result"
    }
   ],
   "source": [
    "loadPipeline = Pipeline.load(pipelinePath)\n",
    "loadPipeline.fit(births_train).transform(births_test).take(1)"
   ]
  },
  {
   "cell_type": "code",
   "execution_count": 17,
   "id": "f5f91b05",
   "metadata": {},
   "outputs": [],
   "source": [
    "from pyspark.ml import PipelineModel\n",
    "\n",
    "modelPath = './infant_oneHotEncoder_Logistic_Pipemodel'\n",
    "model.write().overwrite().save(modelPath)"
   ]
  },
  {
   "cell_type": "markdown",
   "id": "cbe5d1dd",
   "metadata": {},
   "source": [
    "用加载的模型测试数据"
   ]
  },
  {
   "cell_type": "code",
   "execution_count": 18,
   "id": "dee465d5",
   "metadata": {},
   "outputs": [
    {
     "data": {
      "text/plain": [
       "[Row(INFANT_ALIVE_AT_REPORT=0, BIRTH_PLACE=1, MOTHER_AGE_YEARS=14, FATHER_COMBINED_AGE=16, CIG_BEFORE=0, CIG_1_TRI=0, CIG_2_TRI=0, CIG_3_TRI=0, MOTHER_HEIGHT_IN=63, MOTHER_PRE_WEIGHT=180, MOTHER_DELIVERY_WEIGHT=206, MOTHER_WEIGHT_GAIN=26, DIABETES_PRE=0, DIABETES_GEST=0, HYP_TENS_PRE=0, HYP_TENS_GEST=0, PREV_BIRTH_PRETERM=0, BIRTH_PLACE_VEC=SparseVector(9, {1: 1.0}), features=SparseVector(24, {0: 14.0, 1: 16.0, 6: 63.0, 7: 180.0, 8: 206.0, 9: 26.0, 16: 1.0}), rawPrediction=DenseVector([-0.3229, 0.3229]), probability=DenseVector([0.42, 0.58]), prediction=1.0)]"
      ]
     },
     "execution_count": 18,
     "metadata": {},
     "output_type": "execute_result"
    }
   ],
   "source": [
    "loadPipelineModel = PipelineModel.load(modelPath)\n",
    "test_reloadModel = loadPipelineModel.transform(births_test)\n",
    "test_reloadModel.take(1)"
   ]
  },
  {
   "cell_type": "markdown",
   "id": "d89635e7",
   "metadata": {},
   "source": [
    "# 参数调优"
   ]
  },
  {
   "cell_type": "markdown",
   "id": "306606fa",
   "metadata": {},
   "source": [
    "网格搜索法，是根据给定的评估指标，循环遍历定义的参数值列表，估计各个单独的模型，从而选择一个最优的模型。"
   ]
  },
  {
   "cell_type": "code",
   "execution_count": 19,
   "id": "e6ecaa1c",
   "metadata": {},
   "outputs": [],
   "source": [
    "#导包 tuning\n",
    "import pyspark.ml.tuning as tune "
   ]
  },
  {
   "cell_type": "code",
   "execution_count": 20,
   "id": "68d87fd3",
   "metadata": {},
   "outputs": [],
   "source": [
    "# 指定模型和参数列表\n",
    "logistic = cl.LogisticRegression(labelCol='INFANT_ALIVE_AT_REPORT')"
   ]
  },
  {
   "cell_type": "markdown",
   "id": "97267240",
   "metadata": {},
   "source": [
    "ParamGridBuilder对象使用addGrid()方法将参数添加到网格中：参数一为要优化的模型的参数对象，参数二为要循环的列表的值。最后调用对象的build()方法，来构建网络。"
   ]
  },
  {
   "cell_type": "code",
   "execution_count": 21,
   "id": "46c05096",
   "metadata": {},
   "outputs": [],
   "source": [
    "grid = tune.ParamGridBuilder().addGrid(logistic.maxIter, [2, 10, 50]).addGrid(logistic.regParam, [0.01, 0.05, 0.3]).build()"
   ]
  },
  {
   "cell_type": "markdown",
   "id": "a40e2798",
   "metadata": {},
   "source": [
    "创建模型评估的评估器"
   ]
  },
  {
   "cell_type": "code",
   "execution_count": 22,
   "id": "e5d4a31a",
   "metadata": {},
   "outputs": [],
   "source": [
    "evaluator = ev.BinaryClassificationEvaluator(rawPredictionCol='probability', labelCol='INFANT_ALIVE_AT_REPORT')"
   ]
  },
  {
   "cell_type": "code",
   "execution_count": 23,
   "id": "ece8c61b",
   "metadata": {},
   "outputs": [],
   "source": [
    "cv = tune.CrossValidator(estimator=logistic, estimatorParamMaps=grid, evaluator=evaluator)"
   ]
  },
  {
   "cell_type": "markdown",
   "id": "bb0b1632",
   "metadata": {},
   "source": [
    "创建管道"
   ]
  },
  {
   "cell_type": "code",
   "execution_count": 24,
   "id": "fd6cdc8f",
   "metadata": {},
   "outputs": [],
   "source": [
    "pipeline = Pipeline(stages=[encoder, featuresCreator])\n",
    "data_transformer = pipeline.fit(births_train)"
   ]
  },
  {
   "cell_type": "markdown",
   "id": "3288131d",
   "metadata": {},
   "source": [
    "建立模型\n"
   ]
  },
  {
   "cell_type": "code",
   "execution_count": 25,
   "id": "4691b62f",
   "metadata": {},
   "outputs": [],
   "source": [
    "cvModel = cv.fit(data_transformer.transform(births_train))"
   ]
  },
  {
   "cell_type": "markdown",
   "id": "2640239d",
   "metadata": {},
   "source": [
    "检验效果"
   ]
  },
  {
   "cell_type": "code",
   "execution_count": 26,
   "id": "10594ec8",
   "metadata": {},
   "outputs": [],
   "source": [
    "data_train = data_transformer.transform(births_test)\n",
    "results = cvModel.transform(data_train)"
   ]
  },
  {
   "cell_type": "code",
   "execution_count": 27,
   "id": "f31dd45f",
   "metadata": {},
   "outputs": [
    {
     "name": "stdout",
     "output_type": "stream",
     "text": [
      "ROC 0.7353349101843502\n",
      "PR 0.7193606779239169\n"
     ]
    }
   ],
   "source": [
    "print('ROC', evaluator.evaluate(results, {evaluator.metricName:'areaUnderROC'}))\n",
    "print('PR', evaluator.evaluate(results, {evaluator.metricName:'areaUnderPR'}))"
   ]
  },
  {
   "cell_type": "markdown",
   "id": "70535c80",
   "metadata": {},
   "source": [
    "查看最优参数"
   ]
  },
  {
   "cell_type": "code",
   "execution_count": 28,
   "id": "4b7ff287",
   "metadata": {},
   "outputs": [
    {
     "data": {
      "text/plain": [
       "([{'maxIter': 50}, {'regParam': 0.01}], 0.7410335729615861)"
      ]
     },
     "execution_count": 28,
     "metadata": {},
     "output_type": "execute_result"
    }
   ],
   "source": [
    "# 两次遍历，提出对应的参数和名称\n",
    "results = [\n",
    "    ([\n",
    "        {key.name: paramValue} for key, paramValue in zip(params.keys(), params.values())\n",
    "    ], metric) for params, metric in zip(cvModel.getEstimatorParamMaps(), cvModel.avgMetrics)\n",
    "]\n",
    "\n",
    "sorted(results, key=lambda el:el[1], reverse=True)[0]"
   ]
  },
  {
   "cell_type": "markdown",
   "id": "8cc75759",
   "metadata": {},
   "source": [
    "训练数据划分"
   ]
  },
  {
   "cell_type": "code",
   "execution_count": 29,
   "id": "88fe130f",
   "metadata": {},
   "outputs": [],
   "source": [
    "#ChiSqSelector 选择数据的特征数量\n",
    "selector = ft.ChiSqSelector(numTopFeatures=5, featuresCol=featuresCreator.getOutputCol(), outputCol='selectedFeatures',\n",
    "                           labelCol='INFANT_ALIVE_AT_REPORT')"
   ]
  },
  {
   "cell_type": "markdown",
   "id": "1eccac6e",
   "metadata": {},
   "source": [
    "创建管道 模型"
   ]
  },
  {
   "cell_type": "code",
   "execution_count": 30,
   "id": "625ac2e9",
   "metadata": {},
   "outputs": [],
   "source": [
    "logistic = cl.LogisticRegression(labelCol='INFANT_ALIVE_AT_REPORT', featuresCol='selectedFeatures')\n",
    "pipeline = Pipeline(stages=[encoder, featuresCreator, selector])\n",
    "data_transformer = pipeline.fit(births_train)"
   ]
  },
  {
   "cell_type": "code",
   "execution_count": 31,
   "id": "897c3876",
   "metadata": {},
   "outputs": [],
   "source": [
    "tvs = tune.TrainValidationSplit(estimator=logistic, estimatorParamMaps=grid, evaluator=evaluator)"
   ]
  },
  {
   "cell_type": "markdown",
   "id": "bfecc8a8",
   "metadata": {},
   "source": [
    "拟合数据到模型"
   ]
  },
  {
   "cell_type": "code",
   "execution_count": 33,
   "id": "cf405948",
   "metadata": {},
   "outputs": [
    {
     "name": "stdout",
     "output_type": "stream",
     "text": [
      "ROC 0.6067232391648452\n",
      "PR 0.5823462144916927\n"
     ]
    }
   ],
   "source": [
    "tvsModel = tvs.fit(data_transformer.transform(births_train))\n",
    "data_train = data_transformer.transform(births_test)\n",
    "results = tvsModel.transform(data_train)\n",
    "\n",
    "#评估结果\n",
    "print('ROC', evaluator.evaluate(results, {evaluator.metricName:'areaUnderROC'}))\n",
    "print('PR', evaluator.evaluate(results, {evaluator.metricName:'areaUnderPR'}))"
   ]
  }
 ],
 "metadata": {
  "kernelspec": {
   "display_name": "Python 3",
   "language": "python",
   "name": "python3"
  },
  "language_info": {
   "codemirror_mode": {
    "name": "ipython",
    "version": 3
   },
   "file_extension": ".py",
   "mimetype": "text/x-python",
   "name": "python",
   "nbconvert_exporter": "python",
   "pygments_lexer": "ipython3",
   "version": "3.9.4"
  }
 },
 "nbformat": 4,
 "nbformat_minor": 5
}
